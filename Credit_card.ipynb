{
  "nbformat": 4,
  "nbformat_minor": 0,
  "metadata": {
    "colab": {
      "provenance": []
    },
    "kernelspec": {
      "name": "python3",
      "display_name": "Python 3"
    },
    "language_info": {
      "name": "python"
    }
  },
  "cells": [
    {
      "cell_type": "markdown",
      "source": [
        "Importing necessary **libraries**"
      ],
      "metadata": {
        "id": "vPlxTiOkQjra"
      }
    },
    {
      "cell_type": "code",
      "execution_count": 1,
      "metadata": {
        "id": "2DU2xyQPP3x-"
      },
      "outputs": [],
      "source": [
        "import pandas as pd\n",
        "import numpy as np\n",
        "import matplotlib.pyplot as plt\n",
        "import seaborn as sns\n",
        "import scipy.stats as stats"
      ]
    },
    {
      "cell_type": "code",
      "source": [
        "df = pd.read_csv('/content/creditcard.csv')"
      ],
      "metadata": {
        "id": "cfJ5b1odQsM8"
      },
      "execution_count": 2,
      "outputs": []
    },
    {
      "cell_type": "code",
      "source": [
        "df.shape"
      ],
      "metadata": {
        "colab": {
          "base_uri": "https://localhost:8080/"
        },
        "id": "GPt3noTKQ2bc",
        "outputId": "1f4e6bbe-7b48-461d-a080-054f2abc8e46"
      },
      "execution_count": 3,
      "outputs": [
        {
          "output_type": "execute_result",
          "data": {
            "text/plain": [
              "(17918, 31)"
            ]
          },
          "metadata": {},
          "execution_count": 3
        }
      ]
    },
    {
      "cell_type": "code",
      "source": [
        "df.head(5)"
      ],
      "metadata": {
        "colab": {
          "base_uri": "https://localhost:8080/",
          "height": 299
        },
        "id": "idAoQoUAQ7g9",
        "outputId": "999440d5-a722-4389-8dcb-b2a5e3af0182"
      },
      "execution_count": 4,
      "outputs": [
        {
          "output_type": "execute_result",
          "data": {
            "text/plain": [
              "   Time        V1        V2        V3        V4        V5        V6        V7  \\\n",
              "0     0 -1.359807 -0.072781  2.536347  1.378155 -0.338321  0.462388  0.239599   \n",
              "1     0  1.191857  0.266151  0.166480  0.448154  0.060018 -0.082361 -0.078803   \n",
              "2     1 -1.358354 -1.340163  1.773209  0.379780 -0.503198  1.800499  0.791461   \n",
              "3     1 -0.966272 -0.185226  1.792993 -0.863291 -0.010309  1.247203  0.237609   \n",
              "4     2 -1.158233  0.877737  1.548718  0.403034 -0.407193  0.095921  0.592941   \n",
              "\n",
              "         V8        V9  ...       V21       V22       V23       V24       V25  \\\n",
              "0  0.098698  0.363787  ... -0.018307  0.277838 -0.110474  0.066928  0.128539   \n",
              "1  0.085102 -0.255425  ... -0.225775 -0.638672  0.101288 -0.339846  0.167170   \n",
              "2  0.247676 -1.514654  ...  0.247998  0.771679  0.909412 -0.689281 -0.327642   \n",
              "3  0.377436 -1.387024  ... -0.108300  0.005274 -0.190321 -1.175575  0.647376   \n",
              "4 -0.270533  0.817739  ... -0.009431  0.798278 -0.137458  0.141267 -0.206010   \n",
              "\n",
              "        V26       V27       V28  Amount  Class  \n",
              "0 -0.189115  0.133558 -0.021053  149.62    0.0  \n",
              "1  0.125895 -0.008983  0.014724    2.69    0.0  \n",
              "2 -0.139097 -0.055353 -0.059752  378.66    0.0  \n",
              "3 -0.221929  0.062723  0.061458  123.50    0.0  \n",
              "4  0.502292  0.219422  0.215153   69.99    0.0  \n",
              "\n",
              "[5 rows x 31 columns]"
            ],
            "text/html": [
              "\n",
              "  <div id=\"df-5a29c3e5-06b3-4f85-8141-22a4986cd666\">\n",
              "    <div class=\"colab-df-container\">\n",
              "      <div>\n",
              "<style scoped>\n",
              "    .dataframe tbody tr th:only-of-type {\n",
              "        vertical-align: middle;\n",
              "    }\n",
              "\n",
              "    .dataframe tbody tr th {\n",
              "        vertical-align: top;\n",
              "    }\n",
              "\n",
              "    .dataframe thead th {\n",
              "        text-align: right;\n",
              "    }\n",
              "</style>\n",
              "<table border=\"1\" class=\"dataframe\">\n",
              "  <thead>\n",
              "    <tr style=\"text-align: right;\">\n",
              "      <th></th>\n",
              "      <th>Time</th>\n",
              "      <th>V1</th>\n",
              "      <th>V2</th>\n",
              "      <th>V3</th>\n",
              "      <th>V4</th>\n",
              "      <th>V5</th>\n",
              "      <th>V6</th>\n",
              "      <th>V7</th>\n",
              "      <th>V8</th>\n",
              "      <th>V9</th>\n",
              "      <th>...</th>\n",
              "      <th>V21</th>\n",
              "      <th>V22</th>\n",
              "      <th>V23</th>\n",
              "      <th>V24</th>\n",
              "      <th>V25</th>\n",
              "      <th>V26</th>\n",
              "      <th>V27</th>\n",
              "      <th>V28</th>\n",
              "      <th>Amount</th>\n",
              "      <th>Class</th>\n",
              "    </tr>\n",
              "  </thead>\n",
              "  <tbody>\n",
              "    <tr>\n",
              "      <th>0</th>\n",
              "      <td>0</td>\n",
              "      <td>-1.359807</td>\n",
              "      <td>-0.072781</td>\n",
              "      <td>2.536347</td>\n",
              "      <td>1.378155</td>\n",
              "      <td>-0.338321</td>\n",
              "      <td>0.462388</td>\n",
              "      <td>0.239599</td>\n",
              "      <td>0.098698</td>\n",
              "      <td>0.363787</td>\n",
              "      <td>...</td>\n",
              "      <td>-0.018307</td>\n",
              "      <td>0.277838</td>\n",
              "      <td>-0.110474</td>\n",
              "      <td>0.066928</td>\n",
              "      <td>0.128539</td>\n",
              "      <td>-0.189115</td>\n",
              "      <td>0.133558</td>\n",
              "      <td>-0.021053</td>\n",
              "      <td>149.62</td>\n",
              "      <td>0.0</td>\n",
              "    </tr>\n",
              "    <tr>\n",
              "      <th>1</th>\n",
              "      <td>0</td>\n",
              "      <td>1.191857</td>\n",
              "      <td>0.266151</td>\n",
              "      <td>0.166480</td>\n",
              "      <td>0.448154</td>\n",
              "      <td>0.060018</td>\n",
              "      <td>-0.082361</td>\n",
              "      <td>-0.078803</td>\n",
              "      <td>0.085102</td>\n",
              "      <td>-0.255425</td>\n",
              "      <td>...</td>\n",
              "      <td>-0.225775</td>\n",
              "      <td>-0.638672</td>\n",
              "      <td>0.101288</td>\n",
              "      <td>-0.339846</td>\n",
              "      <td>0.167170</td>\n",
              "      <td>0.125895</td>\n",
              "      <td>-0.008983</td>\n",
              "      <td>0.014724</td>\n",
              "      <td>2.69</td>\n",
              "      <td>0.0</td>\n",
              "    </tr>\n",
              "    <tr>\n",
              "      <th>2</th>\n",
              "      <td>1</td>\n",
              "      <td>-1.358354</td>\n",
              "      <td>-1.340163</td>\n",
              "      <td>1.773209</td>\n",
              "      <td>0.379780</td>\n",
              "      <td>-0.503198</td>\n",
              "      <td>1.800499</td>\n",
              "      <td>0.791461</td>\n",
              "      <td>0.247676</td>\n",
              "      <td>-1.514654</td>\n",
              "      <td>...</td>\n",
              "      <td>0.247998</td>\n",
              "      <td>0.771679</td>\n",
              "      <td>0.909412</td>\n",
              "      <td>-0.689281</td>\n",
              "      <td>-0.327642</td>\n",
              "      <td>-0.139097</td>\n",
              "      <td>-0.055353</td>\n",
              "      <td>-0.059752</td>\n",
              "      <td>378.66</td>\n",
              "      <td>0.0</td>\n",
              "    </tr>\n",
              "    <tr>\n",
              "      <th>3</th>\n",
              "      <td>1</td>\n",
              "      <td>-0.966272</td>\n",
              "      <td>-0.185226</td>\n",
              "      <td>1.792993</td>\n",
              "      <td>-0.863291</td>\n",
              "      <td>-0.010309</td>\n",
              "      <td>1.247203</td>\n",
              "      <td>0.237609</td>\n",
              "      <td>0.377436</td>\n",
              "      <td>-1.387024</td>\n",
              "      <td>...</td>\n",
              "      <td>-0.108300</td>\n",
              "      <td>0.005274</td>\n",
              "      <td>-0.190321</td>\n",
              "      <td>-1.175575</td>\n",
              "      <td>0.647376</td>\n",
              "      <td>-0.221929</td>\n",
              "      <td>0.062723</td>\n",
              "      <td>0.061458</td>\n",
              "      <td>123.50</td>\n",
              "      <td>0.0</td>\n",
              "    </tr>\n",
              "    <tr>\n",
              "      <th>4</th>\n",
              "      <td>2</td>\n",
              "      <td>-1.158233</td>\n",
              "      <td>0.877737</td>\n",
              "      <td>1.548718</td>\n",
              "      <td>0.403034</td>\n",
              "      <td>-0.407193</td>\n",
              "      <td>0.095921</td>\n",
              "      <td>0.592941</td>\n",
              "      <td>-0.270533</td>\n",
              "      <td>0.817739</td>\n",
              "      <td>...</td>\n",
              "      <td>-0.009431</td>\n",
              "      <td>0.798278</td>\n",
              "      <td>-0.137458</td>\n",
              "      <td>0.141267</td>\n",
              "      <td>-0.206010</td>\n",
              "      <td>0.502292</td>\n",
              "      <td>0.219422</td>\n",
              "      <td>0.215153</td>\n",
              "      <td>69.99</td>\n",
              "      <td>0.0</td>\n",
              "    </tr>\n",
              "  </tbody>\n",
              "</table>\n",
              "<p>5 rows × 31 columns</p>\n",
              "</div>\n",
              "      <button class=\"colab-df-convert\" onclick=\"convertToInteractive('df-5a29c3e5-06b3-4f85-8141-22a4986cd666')\"\n",
              "              title=\"Convert this dataframe to an interactive table.\"\n",
              "              style=\"display:none;\">\n",
              "        \n",
              "  <svg xmlns=\"http://www.w3.org/2000/svg\" height=\"24px\"viewBox=\"0 0 24 24\"\n",
              "       width=\"24px\">\n",
              "    <path d=\"M0 0h24v24H0V0z\" fill=\"none\"/>\n",
              "    <path d=\"M18.56 5.44l.94 2.06.94-2.06 2.06-.94-2.06-.94-.94-2.06-.94 2.06-2.06.94zm-11 1L8.5 8.5l.94-2.06 2.06-.94-2.06-.94L8.5 2.5l-.94 2.06-2.06.94zm10 10l.94 2.06.94-2.06 2.06-.94-2.06-.94-.94-2.06-.94 2.06-2.06.94z\"/><path d=\"M17.41 7.96l-1.37-1.37c-.4-.4-.92-.59-1.43-.59-.52 0-1.04.2-1.43.59L10.3 9.45l-7.72 7.72c-.78.78-.78 2.05 0 2.83L4 21.41c.39.39.9.59 1.41.59.51 0 1.02-.2 1.41-.59l7.78-7.78 2.81-2.81c.8-.78.8-2.07 0-2.86zM5.41 20L4 18.59l7.72-7.72 1.47 1.35L5.41 20z\"/>\n",
              "  </svg>\n",
              "      </button>\n",
              "      \n",
              "  <style>\n",
              "    .colab-df-container {\n",
              "      display:flex;\n",
              "      flex-wrap:wrap;\n",
              "      gap: 12px;\n",
              "    }\n",
              "\n",
              "    .colab-df-convert {\n",
              "      background-color: #E8F0FE;\n",
              "      border: none;\n",
              "      border-radius: 50%;\n",
              "      cursor: pointer;\n",
              "      display: none;\n",
              "      fill: #1967D2;\n",
              "      height: 32px;\n",
              "      padding: 0 0 0 0;\n",
              "      width: 32px;\n",
              "    }\n",
              "\n",
              "    .colab-df-convert:hover {\n",
              "      background-color: #E2EBFA;\n",
              "      box-shadow: 0px 1px 2px rgba(60, 64, 67, 0.3), 0px 1px 3px 1px rgba(60, 64, 67, 0.15);\n",
              "      fill: #174EA6;\n",
              "    }\n",
              "\n",
              "    [theme=dark] .colab-df-convert {\n",
              "      background-color: #3B4455;\n",
              "      fill: #D2E3FC;\n",
              "    }\n",
              "\n",
              "    [theme=dark] .colab-df-convert:hover {\n",
              "      background-color: #434B5C;\n",
              "      box-shadow: 0px 1px 3px 1px rgba(0, 0, 0, 0.15);\n",
              "      filter: drop-shadow(0px 1px 2px rgba(0, 0, 0, 0.3));\n",
              "      fill: #FFFFFF;\n",
              "    }\n",
              "  </style>\n",
              "\n",
              "      <script>\n",
              "        const buttonEl =\n",
              "          document.querySelector('#df-5a29c3e5-06b3-4f85-8141-22a4986cd666 button.colab-df-convert');\n",
              "        buttonEl.style.display =\n",
              "          google.colab.kernel.accessAllowed ? 'block' : 'none';\n",
              "\n",
              "        async function convertToInteractive(key) {\n",
              "          const element = document.querySelector('#df-5a29c3e5-06b3-4f85-8141-22a4986cd666');\n",
              "          const dataTable =\n",
              "            await google.colab.kernel.invokeFunction('convertToInteractive',\n",
              "                                                     [key], {});\n",
              "          if (!dataTable) return;\n",
              "\n",
              "          const docLinkHtml = 'Like what you see? Visit the ' +\n",
              "            '<a target=\"_blank\" href=https://colab.research.google.com/notebooks/data_table.ipynb>data table notebook</a>'\n",
              "            + ' to learn more about interactive tables.';\n",
              "          element.innerHTML = '';\n",
              "          dataTable['output_type'] = 'display_data';\n",
              "          await google.colab.output.renderOutput(dataTable, element);\n",
              "          const docLink = document.createElement('div');\n",
              "          docLink.innerHTML = docLinkHtml;\n",
              "          element.appendChild(docLink);\n",
              "        }\n",
              "      </script>\n",
              "    </div>\n",
              "  </div>\n",
              "  "
            ]
          },
          "metadata": {},
          "execution_count": 4
        }
      ]
    },
    {
      "cell_type": "code",
      "source": [
        "df.info()"
      ],
      "metadata": {
        "colab": {
          "base_uri": "https://localhost:8080/"
        },
        "id": "dCRLxZWYRAI4",
        "outputId": "b8bc20ff-1d0a-41b0-8da4-90f7b4fde6dd"
      },
      "execution_count": 5,
      "outputs": [
        {
          "output_type": "stream",
          "name": "stdout",
          "text": [
            "<class 'pandas.core.frame.DataFrame'>\n",
            "RangeIndex: 17918 entries, 0 to 17917\n",
            "Data columns (total 31 columns):\n",
            " #   Column  Non-Null Count  Dtype  \n",
            "---  ------  --------------  -----  \n",
            " 0   Time    17918 non-null  int64  \n",
            " 1   V1      17918 non-null  float64\n",
            " 2   V2      17918 non-null  float64\n",
            " 3   V3      17918 non-null  float64\n",
            " 4   V4      17918 non-null  float64\n",
            " 5   V5      17917 non-null  float64\n",
            " 6   V6      17917 non-null  float64\n",
            " 7   V7      17917 non-null  float64\n",
            " 8   V8      17917 non-null  float64\n",
            " 9   V9      17917 non-null  float64\n",
            " 10  V10     17917 non-null  float64\n",
            " 11  V11     17917 non-null  float64\n",
            " 12  V12     17917 non-null  float64\n",
            " 13  V13     17917 non-null  float64\n",
            " 14  V14     17917 non-null  float64\n",
            " 15  V15     17917 non-null  float64\n",
            " 16  V16     17917 non-null  float64\n",
            " 17  V17     17917 non-null  float64\n",
            " 18  V18     17917 non-null  float64\n",
            " 19  V19     17917 non-null  float64\n",
            " 20  V20     17917 non-null  float64\n",
            " 21  V21     17917 non-null  float64\n",
            " 22  V22     17917 non-null  float64\n",
            " 23  V23     17917 non-null  float64\n",
            " 24  V24     17917 non-null  float64\n",
            " 25  V25     17917 non-null  float64\n",
            " 26  V26     17917 non-null  float64\n",
            " 27  V27     17917 non-null  float64\n",
            " 28  V28     17917 non-null  float64\n",
            " 29  Amount  17917 non-null  float64\n",
            " 30  Class   17917 non-null  float64\n",
            "dtypes: float64(30), int64(1)\n",
            "memory usage: 4.2 MB\n"
          ]
        }
      ]
    },
    {
      "cell_type": "code",
      "source": [
        "pd.set_option('precision',2)\n",
        "df.loc[:,['Time','Amount']].describe()"
      ],
      "metadata": {
        "colab": {
          "base_uri": "https://localhost:8080/",
          "height": 300
        },
        "id": "hxtHkD6XRG0e",
        "outputId": "17b12aac-d82e-4c82-d4d1-23c3f36b0498"
      },
      "execution_count": 6,
      "outputs": [
        {
          "output_type": "execute_result",
          "data": {
            "text/plain": [
              "           Time    Amount\n",
              "count  17918.00  17917.00\n",
              "mean   13905.28     67.50\n",
              "std     9867.92    189.18\n",
              "min        0.00      0.00\n",
              "25%     3781.25      5.49\n",
              "50%    12347.50     15.95\n",
              "75%    23775.00     56.67\n",
              "max    29031.00   7712.43"
            ],
            "text/html": [
              "\n",
              "  <div id=\"df-d5610f88-2554-4204-8386-6ee7a635826a\">\n",
              "    <div class=\"colab-df-container\">\n",
              "      <div>\n",
              "<style scoped>\n",
              "    .dataframe tbody tr th:only-of-type {\n",
              "        vertical-align: middle;\n",
              "    }\n",
              "\n",
              "    .dataframe tbody tr th {\n",
              "        vertical-align: top;\n",
              "    }\n",
              "\n",
              "    .dataframe thead th {\n",
              "        text-align: right;\n",
              "    }\n",
              "</style>\n",
              "<table border=\"1\" class=\"dataframe\">\n",
              "  <thead>\n",
              "    <tr style=\"text-align: right;\">\n",
              "      <th></th>\n",
              "      <th>Time</th>\n",
              "      <th>Amount</th>\n",
              "    </tr>\n",
              "  </thead>\n",
              "  <tbody>\n",
              "    <tr>\n",
              "      <th>count</th>\n",
              "      <td>17918.00</td>\n",
              "      <td>17917.00</td>\n",
              "    </tr>\n",
              "    <tr>\n",
              "      <th>mean</th>\n",
              "      <td>13905.28</td>\n",
              "      <td>67.50</td>\n",
              "    </tr>\n",
              "    <tr>\n",
              "      <th>std</th>\n",
              "      <td>9867.92</td>\n",
              "      <td>189.18</td>\n",
              "    </tr>\n",
              "    <tr>\n",
              "      <th>min</th>\n",
              "      <td>0.00</td>\n",
              "      <td>0.00</td>\n",
              "    </tr>\n",
              "    <tr>\n",
              "      <th>25%</th>\n",
              "      <td>3781.25</td>\n",
              "      <td>5.49</td>\n",
              "    </tr>\n",
              "    <tr>\n",
              "      <th>50%</th>\n",
              "      <td>12347.50</td>\n",
              "      <td>15.95</td>\n",
              "    </tr>\n",
              "    <tr>\n",
              "      <th>75%</th>\n",
              "      <td>23775.00</td>\n",
              "      <td>56.67</td>\n",
              "    </tr>\n",
              "    <tr>\n",
              "      <th>max</th>\n",
              "      <td>29031.00</td>\n",
              "      <td>7712.43</td>\n",
              "    </tr>\n",
              "  </tbody>\n",
              "</table>\n",
              "</div>\n",
              "      <button class=\"colab-df-convert\" onclick=\"convertToInteractive('df-d5610f88-2554-4204-8386-6ee7a635826a')\"\n",
              "              title=\"Convert this dataframe to an interactive table.\"\n",
              "              style=\"display:none;\">\n",
              "        \n",
              "  <svg xmlns=\"http://www.w3.org/2000/svg\" height=\"24px\"viewBox=\"0 0 24 24\"\n",
              "       width=\"24px\">\n",
              "    <path d=\"M0 0h24v24H0V0z\" fill=\"none\"/>\n",
              "    <path d=\"M18.56 5.44l.94 2.06.94-2.06 2.06-.94-2.06-.94-.94-2.06-.94 2.06-2.06.94zm-11 1L8.5 8.5l.94-2.06 2.06-.94-2.06-.94L8.5 2.5l-.94 2.06-2.06.94zm10 10l.94 2.06.94-2.06 2.06-.94-2.06-.94-.94-2.06-.94 2.06-2.06.94z\"/><path d=\"M17.41 7.96l-1.37-1.37c-.4-.4-.92-.59-1.43-.59-.52 0-1.04.2-1.43.59L10.3 9.45l-7.72 7.72c-.78.78-.78 2.05 0 2.83L4 21.41c.39.39.9.59 1.41.59.51 0 1.02-.2 1.41-.59l7.78-7.78 2.81-2.81c.8-.78.8-2.07 0-2.86zM5.41 20L4 18.59l7.72-7.72 1.47 1.35L5.41 20z\"/>\n",
              "  </svg>\n",
              "      </button>\n",
              "      \n",
              "  <style>\n",
              "    .colab-df-container {\n",
              "      display:flex;\n",
              "      flex-wrap:wrap;\n",
              "      gap: 12px;\n",
              "    }\n",
              "\n",
              "    .colab-df-convert {\n",
              "      background-color: #E8F0FE;\n",
              "      border: none;\n",
              "      border-radius: 50%;\n",
              "      cursor: pointer;\n",
              "      display: none;\n",
              "      fill: #1967D2;\n",
              "      height: 32px;\n",
              "      padding: 0 0 0 0;\n",
              "      width: 32px;\n",
              "    }\n",
              "\n",
              "    .colab-df-convert:hover {\n",
              "      background-color: #E2EBFA;\n",
              "      box-shadow: 0px 1px 2px rgba(60, 64, 67, 0.3), 0px 1px 3px 1px rgba(60, 64, 67, 0.15);\n",
              "      fill: #174EA6;\n",
              "    }\n",
              "\n",
              "    [theme=dark] .colab-df-convert {\n",
              "      background-color: #3B4455;\n",
              "      fill: #D2E3FC;\n",
              "    }\n",
              "\n",
              "    [theme=dark] .colab-df-convert:hover {\n",
              "      background-color: #434B5C;\n",
              "      box-shadow: 0px 1px 3px 1px rgba(0, 0, 0, 0.15);\n",
              "      filter: drop-shadow(0px 1px 2px rgba(0, 0, 0, 0.3));\n",
              "      fill: #FFFFFF;\n",
              "    }\n",
              "  </style>\n",
              "\n",
              "      <script>\n",
              "        const buttonEl =\n",
              "          document.querySelector('#df-d5610f88-2554-4204-8386-6ee7a635826a button.colab-df-convert');\n",
              "        buttonEl.style.display =\n",
              "          google.colab.kernel.accessAllowed ? 'block' : 'none';\n",
              "\n",
              "        async function convertToInteractive(key) {\n",
              "          const element = document.querySelector('#df-d5610f88-2554-4204-8386-6ee7a635826a');\n",
              "          const dataTable =\n",
              "            await google.colab.kernel.invokeFunction('convertToInteractive',\n",
              "                                                     [key], {});\n",
              "          if (!dataTable) return;\n",
              "\n",
              "          const docLinkHtml = 'Like what you see? Visit the ' +\n",
              "            '<a target=\"_blank\" href=https://colab.research.google.com/notebooks/data_table.ipynb>data table notebook</a>'\n",
              "            + ' to learn more about interactive tables.';\n",
              "          element.innerHTML = '';\n",
              "          dataTable['output_type'] = 'display_data';\n",
              "          await google.colab.output.renderOutput(dataTable, element);\n",
              "          const docLink = document.createElement('div');\n",
              "          docLink.innerHTML = docLinkHtml;\n",
              "          element.appendChild(docLink);\n",
              "        }\n",
              "      </script>\n",
              "    </div>\n",
              "  </div>\n",
              "  "
            ]
          },
          "metadata": {},
          "execution_count": 6
        }
      ]
    },
    {
      "cell_type": "markdown",
      "source": [
        "Around 67 dollars is the mean of all credit card transactions.\n",
        "\n",
        "The biggest transaction had a amount of around 29031 dollars."
      ],
      "metadata": {
        "id": "kUBBmtW6Rjzx"
      }
    },
    {
      "cell_type": "markdown",
      "source": [
        "Visualization of time"
      ],
      "metadata": {
        "id": "U1jb8ZycRPWP"
      }
    },
    {
      "cell_type": "code",
      "source": [
        "plt.figure(figsize=(8,6))\n",
        "plt.title('Distribution of Time Feature')\n",
        "sns.distplot(df.Time)"
      ],
      "metadata": {
        "colab": {
          "base_uri": "https://localhost:8080/",
          "height": 476
        },
        "id": "dP0oRJydRNBh",
        "outputId": "be38fea0-46d9-423e-ea1c-1a9f74e699f9"
      },
      "execution_count": 7,
      "outputs": [
        {
          "output_type": "stream",
          "name": "stderr",
          "text": [
            "/usr/local/lib/python3.7/dist-packages/seaborn/distributions.py:2619: FutureWarning: `distplot` is a deprecated function and will be removed in a future version. Please adapt your code to use either `displot` (a figure-level function with similar flexibility) or `histplot` (an axes-level function for histograms).\n",
            "  warnings.warn(msg, FutureWarning)\n"
          ]
        },
        {
          "output_type": "execute_result",
          "data": {
            "text/plain": [
              "<matplotlib.axes._subplots.AxesSubplot at 0x7f74b4a0c4d0>"
            ]
          },
          "metadata": {},
          "execution_count": 7
        },
        {
          "output_type": "display_data",
          "data": {
            "text/plain": [
              "<Figure size 576x432 with 1 Axes>"
            ],
            "image/png": "[encoded data removed]"
          },
          "metadata": {
            "needs_background": "light"
          }
        }
      ]
    },
    {
      "cell_type": "markdown",
      "source": [
        "Visualization of amount"
      ],
      "metadata": {
        "id": "TRDCzaKwQhaf"
      }
    },
    {
      "cell_type": "code",
      "source": [
        "plt.figure(figsize=(8,6))\n",
        "plt.title('Distribution of Amount')\n",
        "sns.distplot(df.Amount)"
      ],
      "metadata": {
        "colab": {
          "base_uri": "https://localhost:8080/",
          "height": 476
        },
        "id": "_c8u889nRWg6",
        "outputId": "ff5b1855-2ad5-47e3-8052-04b422f4db92"
      },
      "execution_count": 8,
      "outputs": [
        {
          "output_type": "stream",
          "name": "stderr",
          "text": [
            "/usr/local/lib/python3.7/dist-packages/seaborn/distributions.py:2619: FutureWarning: `distplot` is a deprecated function and will be removed in a future version. Please adapt your code to use either `displot` (a figure-level function with similar flexibility) or `histplot` (an axes-level function for histograms).\n",
            "  warnings.warn(msg, FutureWarning)\n"
          ]
        },
        {
          "output_type": "execute_result",
          "data": {
            "text/plain": [
              "<matplotlib.axes._subplots.AxesSubplot at 0x7f74a5bd5c50>"
            ]
          },
          "metadata": {},
          "execution_count": 8
        },
        {
          "output_type": "display_data",
          "data": {
            "text/plain": [
              "<Figure size 576x432 with 1 Axes>"
            ],
            "image/png": "[encoded data removed]"
          },
          "metadata": {
            "needs_background": "light"
          }
        }
      ]
    },
    {
      "cell_type": "markdown",
      "source": [
        "Fraud vs. Normal transactions"
      ],
      "metadata": {
        "id": "dxjv8BJrRcoD"
      }
    },
    {
      "cell_type": "code",
      "source": [
        "counts=df.Class.value_counts()\n",
        "normal=counts[0]\n",
        "fraud=counts[1]\n",
        "percent_normal = (normal/(normal+fraud))*100\n",
        "percent_fraud = (fraud/(normal+fraud))*100\n",
        "print(normal,' ',fraud) \n",
        "print('%.2f' % percent_normal)\n",
        "print('%.2f' % percent_fraud)"
      ],
      "metadata": {
        "colab": {
          "base_uri": "https://localhost:8080/"
        },
        "id": "KHKnTjEyRcXL",
        "outputId": "12eb6b61-49d6-4d90-bc9f-8b1f28e1007d"
      },
      "execution_count": 9,
      "outputs": [
        {
          "output_type": "stream",
          "name": "stdout",
          "text": [
            "17836   81\n",
            "99.55\n",
            "0.45\n"
          ]
        }
      ]
    },
    {
      "cell_type": "markdown",
      "source": [
        "There were 17836 non-fraud transactions (99.55%) and 81 fraud transactions (0.45%)."
      ],
      "metadata": {
        "id": "0MX4ZZDbRvJy"
      }
    },
    {
      "cell_type": "code",
      "source": [
        "plt.figure(figsize=(8,6))\n",
        "sns.barplot(x=counts.index, y=counts)\n",
        "plt.title('Count of Fraud vs. Non-Fraud Transactions')\n",
        "plt.ylabel('Count')\n",
        "plt.xlabel('Class (0:Non-Fraud, 1:Fraud)')"
      ],
      "metadata": {
        "colab": {
          "base_uri": "https://localhost:8080/",
          "height": 421
        },
        "id": "DBd4M5D_RYpv",
        "outputId": "49607ca9-b653-4cd1-a6fc-6a293e6058ba"
      },
      "execution_count": 10,
      "outputs": [
        {
          "output_type": "execute_result",
          "data": {
            "text/plain": [
              "Text(0.5, 0, 'Class (0:Non-Fraud, 1:Fraud)')"
            ]
          },
          "metadata": {},
          "execution_count": 10
        },
        {
          "output_type": "display_data",
          "data": {
            "text/plain": [
              "<Figure size 576x432 with 1 Axes>"
            ],
            "image/png": "[encoded data removed]"
          },
          "metadata": {
            "needs_background": "light"
          }
        }
      ]
    },
    {
      "cell_type": "markdown",
      "source": [
        "Correlation plot Heatmap\n"
      ],
      "metadata": {
        "id": "6fLWbfj4R5Xb"
      }
    },
    {
      "cell_type": "code",
      "source": [
        "corr = df.corr()\n",
        "plt.figure(figsize=(12,10))\n",
        "heat = sns.heatmap(data=corr)\n",
        "plt.title('Heatmap of Correlation')"
      ],
      "metadata": {
        "colab": {
          "base_uri": "https://localhost:8080/",
          "height": 638
        },
        "id": "nuse4PZgR9zP",
        "outputId": "74eab627-ad4b-4252-a571-0baab2f7a514"
      },
      "execution_count": 11,
      "outputs": [
        {
          "output_type": "execute_result",
          "data": {
            "text/plain": [
              "Text(0.5, 1.0, 'Heatmap of Correlation')"
            ]
          },
          "metadata": {},
          "execution_count": 11
        },
        {
          "output_type": "display_data",
          "data": {
            "text/plain": [
              "<Figure size 864x720 with 2 Axes>"
            ],
            "image/png": "[encoded data removed]"
          },
          "metadata": {
            "needs_background": "light"
          }
        }
      ]
    },
    {
      "cell_type": "markdown",
      "source": [
        "Checking for Skewness"
      ],
      "metadata": {
        "id": "u4wJRZ-mSDRN"
      }
    },
    {
      "cell_type": "code",
      "source": [
        "df.skew()"
      ],
      "metadata": {
        "colab": {
          "base_uri": "https://localhost:8080/"
        },
        "id": "0Yb272G2SAeA",
        "outputId": "efb5774a-6359-4d09-9314-a7a28c92aeb2"
      },
      "execution_count": 12,
      "outputs": [
        {
          "output_type": "execute_result",
          "data": {
            "text/plain": [
              "Time       0.11\n",
              "V1        -4.67\n",
              "V2        -2.16\n",
              "V3        -7.50\n",
              "V4         0.71\n",
              "V5        -1.72\n",
              "V6         0.77\n",
              "V7        -4.97\n",
              "V8        -3.11\n",
              "V9         0.26\n",
              "V10       -0.56\n",
              "V11        1.14\n",
              "V12       -1.55\n",
              "V13       -0.15\n",
              "V14       -4.07\n",
              "V15       -0.59\n",
              "V16       -2.75\n",
              "V17       -5.54\n",
              "V18       -0.91\n",
              "V19       -0.17\n",
              "V20        1.09\n",
              "V21        9.82\n",
              "V22       -0.99\n",
              "V23      -10.43\n",
              "V24       -0.64\n",
              "V25       -0.72\n",
              "V26        0.58\n",
              "V27       -3.44\n",
              "V28        0.33\n",
              "Amount    12.11\n",
              "Class     14.77\n",
              "dtype: float64"
            ]
          },
          "metadata": {},
          "execution_count": 12
        }
      ]
    },
    {
      "cell_type": "markdown",
      "source": [
        "Scaling Amount and Time"
      ],
      "metadata": {
        "id": "MMqRcBq4SJxO"
      }
    },
    {
      "cell_type": "code",
      "source": [
        "from sklearn.preprocessing import StandardScaler\n",
        "scaler = StandardScaler()\n",
        "scaler2 = StandardScaler()\n",
        "#scaling time\n",
        "scaled_time = scaler.fit_transform(df[['Time']])\n",
        "flat_list1 = [item for sublist in scaled_time.tolist() for item in sublist]\n",
        "scaled_time = pd.Series(flat_list1)"
      ],
      "metadata": {
        "id": "T4-BtLYQSIuv"
      },
      "execution_count": 13,
      "outputs": []
    },
    {
      "cell_type": "code",
      "source": [
        "#scaling the amount\n",
        "scaled_amount = scaler2.fit_transform(df[['Amount']])\n",
        "flat_list2 = [item for sublist in scaled_amount.tolist() for item in sublist]\n",
        "scaled_amount = pd.Series(flat_list2)"
      ],
      "metadata": {
        "id": "CnGoios7SVpq"
      },
      "execution_count": 14,
      "outputs": []
    },
    {
      "cell_type": "code",
      "source": [
        "#concatenating newly created columns original df\n",
        "df = pd.concat([df, scaled_amount.rename('scaled_amount'), scaled_time.rename('scaled_time')], axis=1)\n",
        "df.head(5)"
      ],
      "metadata": {
        "colab": {
          "base_uri": "https://localhost:8080/",
          "height": 386
        },
        "id": "UuV2lr5SSWbd",
        "outputId": "39b65cf7-ef2e-4004-d271-4e374b62ffd7"
      },
      "execution_count": 15,
      "outputs": [
        {
          "output_type": "execute_result",
          "data": {
            "text/plain": [
              "   Time    V1    V2    V3    V4    V5    V6    V7    V8    V9  ...   V23  \\\n",
              "0     0 -1.36 -0.07  2.54  1.38 -0.34  0.46  0.24  0.10  0.36  ... -0.11   \n",
              "1     0  1.19  0.27  0.17  0.45  0.06 -0.08 -0.08  0.09 -0.26  ...  0.10   \n",
              "2     1 -1.36 -1.34  1.77  0.38 -0.50  1.80  0.79  0.25 -1.51  ...  0.91   \n",
              "3     1 -0.97 -0.19  1.79 -0.86 -0.01  1.25  0.24  0.38 -1.39  ... -0.19   \n",
              "4     2 -1.16  0.88  1.55  0.40 -0.41  0.10  0.59 -0.27  0.82  ... -0.14   \n",
              "\n",
              "    V24   V25   V26       V27   V28  Amount  Class  scaled_amount  scaled_time  \n",
              "0  0.07  0.13 -0.19  1.34e-01 -0.02  149.62    0.0           0.43        -1.41  \n",
              "1 -0.34  0.17  0.13 -8.98e-03  0.01    2.69    0.0          -0.34        -1.41  \n",
              "2 -0.69 -0.33 -0.14 -5.54e-02 -0.06  378.66    0.0           1.64        -1.41  \n",
              "3 -1.18  0.65 -0.22  6.27e-02  0.06  123.50    0.0           0.30        -1.41  \n",
              "4  0.14 -0.21  0.50  2.19e-01  0.22   69.99    0.0           0.01        -1.41  \n",
              "\n",
              "[5 rows x 33 columns]"
            ],
            "text/html": [
              "\n",
              "  <div id=\"df-2bf30bae-6496-4edb-a166-38d5dc352001\">\n",
              "    <div class=\"colab-df-container\">\n",
              "      <div>\n",
              "<style scoped>\n",
              "    .dataframe tbody tr th:only-of-type {\n",
              "        vertical-align: middle;\n",
              "    }\n",
              "\n",
              "    .dataframe tbody tr th {\n",
              "        vertical-align: top;\n",
              "    }\n",
              "\n",
              "    .dataframe thead th {\n",
              "        text-align: right;\n",
              "    }\n",
              "</style>\n",
              "<table border=\"1\" class=\"dataframe\">\n",
              "  <thead>\n",
              "    <tr style=\"text-align: right;\">\n",
              "      <th></th>\n",
              "      <th>Time</th>\n",
              "      <th>V1</th>\n",
              "      <th>V2</th>\n",
              "      <th>V3</th>\n",
              "      <th>V4</th>\n",
              "      <th>V5</th>\n",
              "      <th>V6</th>\n",
              "      <th>V7</th>\n",
              "      <th>V8</th>\n",
              "      <th>V9</th>\n",
              "      <th>...</th>\n",
              "      <th>V23</th>\n",
              "      <th>V24</th>\n",
              "      <th>V25</th>\n",
              "      <th>V26</th>\n",
              "      <th>V27</th>\n",
              "      <th>V28</th>\n",
              "      <th>Amount</th>\n",
              "      <th>Class</th>\n",
              "      <th>scaled_amount</th>\n",
              "      <th>scaled_time</th>\n",
              "    </tr>\n",
              "  </thead>\n",
              "  <tbody>\n",
              "    <tr>\n",
              "      <th>0</th>\n",
              "      <td>0</td>\n",
              "      <td>-1.36</td>\n",
              "      <td>-0.07</td>\n",
              "      <td>2.54</td>\n",
              "      <td>1.38</td>\n",
              "      <td>-0.34</td>\n",
              "      <td>0.46</td>\n",
              "      <td>0.24</td>\n",
              "      <td>0.10</td>\n",
              "      <td>0.36</td>\n",
              "      <td>...</td>\n",
              "      <td>-0.11</td>\n",
              "      <td>0.07</td>\n",
              "      <td>0.13</td>\n",
              "      <td>-0.19</td>\n",
              "      <td>1.34e-01</td>\n",
              "      <td>-0.02</td>\n",
              "      <td>149.62</td>\n",
              "      <td>0.0</td>\n",
              "      <td>0.43</td>\n",
              "      <td>-1.41</td>\n",
              "    </tr>\n",
              "    <tr>\n",
              "      <th>1</th>\n",
              "      <td>0</td>\n",
              "      <td>1.19</td>\n",
              "      <td>0.27</td>\n",
              "      <td>0.17</td>\n",
              "      <td>0.45</td>\n",
              "      <td>0.06</td>\n",
              "      <td>-0.08</td>\n",
              "      <td>-0.08</td>\n",
              "      <td>0.09</td>\n",
              "      <td>-0.26</td>\n",
              "      <td>...</td>\n",
              "      <td>0.10</td>\n",
              "      <td>-0.34</td>\n",
              "      <td>0.17</td>\n",
              "      <td>0.13</td>\n",
              "      <td>-8.98e-03</td>\n",
              "      <td>0.01</td>\n",
              "      <td>2.69</td>\n",
              "      <td>0.0</td>\n",
              "      <td>-0.34</td>\n",
              "      <td>-1.41</td>\n",
              "    </tr>\n",
              "    <tr>\n",
              "      <th>2</th>\n",
              "      <td>1</td>\n",
              "      <td>-1.36</td>\n",
              "      <td>-1.34</td>\n",
              "      <td>1.77</td>\n",
              "      <td>0.38</td>\n",
              "      <td>-0.50</td>\n",
              "      <td>1.80</td>\n",
              "      <td>0.79</td>\n",
              "      <td>0.25</td>\n",
              "      <td>-1.51</td>\n",
              "      <td>...</td>\n",
              "      <td>0.91</td>\n",
              "      <td>-0.69</td>\n",
              "      <td>-0.33</td>\n",
              "      <td>-0.14</td>\n",
              "      <td>-5.54e-02</td>\n",
              "      <td>-0.06</td>\n",
              "      <td>378.66</td>\n",
              "      <td>0.0</td>\n",
              "      <td>1.64</td>\n",
              "      <td>-1.41</td>\n",
              "    </tr>\n",
              "    <tr>\n",
              "      <th>3</th>\n",
              "      <td>1</td>\n",
              "      <td>-0.97</td>\n",
              "      <td>-0.19</td>\n",
              "      <td>1.79</td>\n",
              "      <td>-0.86</td>\n",
              "      <td>-0.01</td>\n",
              "      <td>1.25</td>\n",
              "      <td>0.24</td>\n",
              "      <td>0.38</td>\n",
              "      <td>-1.39</td>\n",
              "      <td>...</td>\n",
              "      <td>-0.19</td>\n",
              "      <td>-1.18</td>\n",
              "      <td>0.65</td>\n",
              "      <td>-0.22</td>\n",
              "      <td>6.27e-02</td>\n",
              "      <td>0.06</td>\n",
              "      <td>123.50</td>\n",
              "      <td>0.0</td>\n",
              "      <td>0.30</td>\n",
              "      <td>-1.41</td>\n",
              "    </tr>\n",
              "    <tr>\n",
              "      <th>4</th>\n",
              "      <td>2</td>\n",
              "      <td>-1.16</td>\n",
              "      <td>0.88</td>\n",
              "      <td>1.55</td>\n",
              "      <td>0.40</td>\n",
              "      <td>-0.41</td>\n",
              "      <td>0.10</td>\n",
              "      <td>0.59</td>\n",
              "      <td>-0.27</td>\n",
              "      <td>0.82</td>\n",
              "      <td>...</td>\n",
              "      <td>-0.14</td>\n",
              "      <td>0.14</td>\n",
              "      <td>-0.21</td>\n",
              "      <td>0.50</td>\n",
              "      <td>2.19e-01</td>\n",
              "      <td>0.22</td>\n",
              "      <td>69.99</td>\n",
              "      <td>0.0</td>\n",
              "      <td>0.01</td>\n",
              "      <td>-1.41</td>\n",
              "    </tr>\n",
              "  </tbody>\n",
              "</table>\n",
              "<p>5 rows × 33 columns</p>\n",
              "</div>\n",
              "      <button class=\"colab-df-convert\" onclick=\"convertToInteractive('df-2bf30bae-6496-4edb-a166-38d5dc352001')\"\n",
              "              title=\"Convert this dataframe to an interactive table.\"\n",
              "              style=\"display:none;\">\n",
              "        \n",
              "  <svg xmlns=\"http://www.w3.org/2000/svg\" height=\"24px\"viewBox=\"0 0 24 24\"\n",
              "       width=\"24px\">\n",
              "    <path d=\"M0 0h24v24H0V0z\" fill=\"none\"/>\n",
              "    <path d=\"M18.56 5.44l.94 2.06.94-2.06 2.06-.94-2.06-.94-.94-2.06-.94 2.06-2.06.94zm-11 1L8.5 8.5l.94-2.06 2.06-.94-2.06-.94L8.5 2.5l-.94 2.06-2.06.94zm10 10l.94 2.06.94-2.06 2.06-.94-2.06-.94-.94-2.06-.94 2.06-2.06.94z\"/><path d=\"M17.41 7.96l-1.37-1.37c-.4-.4-.92-.59-1.43-.59-.52 0-1.04.2-1.43.59L10.3 9.45l-7.72 7.72c-.78.78-.78 2.05 0 2.83L4 21.41c.39.39.9.59 1.41.59.51 0 1.02-.2 1.41-.59l7.78-7.78 2.81-2.81c.8-.78.8-2.07 0-2.86zM5.41 20L4 18.59l7.72-7.72 1.47 1.35L5.41 20z\"/>\n",
              "  </svg>\n",
              "      </button>\n",
              "      \n",
              "  <style>\n",
              "    .colab-df-container {\n",
              "      display:flex;\n",
              "      flex-wrap:wrap;\n",
              "      gap: 12px;\n",
              "    }\n",
              "\n",
              "    .colab-df-convert {\n",
              "      background-color: #E8F0FE;\n",
              "      border: none;\n",
              "      border-radius: 50%;\n",
              "      cursor: pointer;\n",
              "      display: none;\n",
              "      fill: #1967D2;\n",
              "      height: 32px;\n",
              "      padding: 0 0 0 0;\n",
              "      width: 32px;\n",
              "    }\n",
              "\n",
              "    .colab-df-convert:hover {\n",
              "      background-color: #E2EBFA;\n",
              "      box-shadow: 0px 1px 2px rgba(60, 64, 67, 0.3), 0px 1px 3px 1px rgba(60, 64, 67, 0.15);\n",
              "      fill: #174EA6;\n",
              "    }\n",
              "\n",
              "    [theme=dark] .colab-df-convert {\n",
              "      background-color: #3B4455;\n",
              "      fill: #D2E3FC;\n",
              "    }\n",
              "\n",
              "    [theme=dark] .colab-df-convert:hover {\n",
              "      background-color: #434B5C;\n",
              "      box-shadow: 0px 1px 3px 1px rgba(0, 0, 0, 0.15);\n",
              "      filter: drop-shadow(0px 1px 2px rgba(0, 0, 0, 0.3));\n",
              "      fill: #FFFFFF;\n",
              "    }\n",
              "  </style>\n",
              "\n",
              "      <script>\n",
              "        const buttonEl =\n",
              "          document.querySelector('#df-2bf30bae-6496-4edb-a166-38d5dc352001 button.colab-df-convert');\n",
              "        buttonEl.style.display =\n",
              "          google.colab.kernel.accessAllowed ? 'block' : 'none';\n",
              "\n",
              "        async function convertToInteractive(key) {\n",
              "          const element = document.querySelector('#df-2bf30bae-6496-4edb-a166-38d5dc352001');\n",
              "          const dataTable =\n",
              "            await google.colab.kernel.invokeFunction('convertToInteractive',\n",
              "                                                     [key], {});\n",
              "          if (!dataTable) return;\n",
              "\n",
              "          const docLinkHtml = 'Like what you see? Visit the ' +\n",
              "            '<a target=\"_blank\" href=https://colab.research.google.com/notebooks/data_table.ipynb>data table notebook</a>'\n",
              "            + ' to learn more about interactive tables.';\n",
              "          element.innerHTML = '';\n",
              "          dataTable['output_type'] = 'display_data';\n",
              "          await google.colab.output.renderOutput(dataTable, element);\n",
              "          const docLink = document.createElement('div');\n",
              "          docLink.innerHTML = docLinkHtml;\n",
              "          element.appendChild(docLink);\n",
              "        }\n",
              "      </script>\n",
              "    </div>\n",
              "  </div>\n",
              "  "
            ]
          },
          "metadata": {},
          "execution_count": 15
        }
      ]
    },
    {
      "cell_type": "code",
      "source": [
        "#dropping old amount and time columns\n",
        "df.drop(['Amount', 'Time'], axis=1, inplace=True)"
      ],
      "metadata": {
        "id": "Y2YmFl48SY2T"
      },
      "execution_count": 16,
      "outputs": []
    },
    {
      "cell_type": "markdown",
      "source": [
        "Splitting Data into Train and Test"
      ],
      "metadata": {
        "id": "0ET3QqFfSdfi"
      }
    },
    {
      "cell_type": "code",
      "source": [
        "#manual train test split using numpy's random.rand\n",
        "mask = np.random.rand(len(df)) < 0.9\n",
        "train = df[mask]\n",
        "test = df[~mask]\n",
        "print('Train Shape: {}\\nTest Shape: {}'.format(train.shape, test.shape))"
      ],
      "metadata": {
        "colab": {
          "base_uri": "https://localhost:8080/"
        },
        "id": "g-QngdGaSbG0",
        "outputId": "96c37851-e27d-43f8-b43e-b2801b7bf554"
      },
      "execution_count": 17,
      "outputs": [
        {
          "output_type": "stream",
          "name": "stdout",
          "text": [
            "Train Shape: (16096, 31)\n",
            "Test Shape: (1822, 31)\n"
          ]
        }
      ]
    },
    {
      "cell_type": "code",
      "source": [
        "train.reset_index(drop=True, inplace=True)\n",
        "test.reset_index(drop=True, inplace=True)"
      ],
      "metadata": {
        "id": "1619EzegSgs7"
      },
      "execution_count": 18,
      "outputs": []
    },
    {
      "cell_type": "markdown",
      "source": [
        "Creating a subsample data set with balanced class distributions"
      ],
      "metadata": {
        "id": "j8VyDysPSor0"
      }
    },
    {
      "cell_type": "code",
      "source": [
        "#how many random samples from normal transactions do we need?\n",
        "no_of_frauds = train.Class.value_counts()[1]\n",
        "print('There are {} fraud transactions in the train set'.format(no_of_frauds))"
      ],
      "metadata": {
        "colab": {
          "base_uri": "https://localhost:8080/"
        },
        "id": "Mjcmrkw7Sis6",
        "outputId": "ac71a4fc-ccda-49e5-b5ec-82aa5d3a751e"
      },
      "execution_count": 19,
      "outputs": [
        {
          "output_type": "stream",
          "name": "stdout",
          "text": [
            "There are 77 fraud transactions in the train set\n"
          ]
        }
      ]
    },
    {
      "cell_type": "code",
      "source": [
        "#randomly selecting 77 random non-fraud transactions\n",
        "non_fraud = train[train['Class'] == 0]\n",
        "fraud = train[train['Class'] == 1]"
      ],
      "metadata": {
        "id": "8a0lOAvzSsfe"
      },
      "execution_count": 20,
      "outputs": []
    },
    {
      "cell_type": "code",
      "source": [
        "selected = non_fraud.sample(no_of_frauds)\n",
        "selected.head(5)"
      ],
      "metadata": {
        "colab": {
          "base_uri": "https://localhost:8080/",
          "height": 386
        },
        "id": "Bnc-eNQdSu5I",
        "outputId": "dbd68648-0306-490c-bcbd-1e342622f130"
      },
      "execution_count": 21,
      "outputs": [
        {
          "output_type": "execute_result",
          "data": {
            "text/plain": [
              "         V1    V2    V3    V4    V5    V6    V7        V8    V9   V10  ...  \\\n",
              "12002 -0.88  0.86  1.21 -1.52  0.83  0.27  0.64 -1.57e-01  1.78 -0.51  ...   \n",
              "10767  1.13  0.10  0.28  0.32  0.74  1.61 -0.46  3.90e-01  1.42 -0.66  ...   \n",
              "10533 -0.89 -0.52  1.84  0.10 -1.32  0.45  0.92  4.17e-03  1.71 -1.53  ...   \n",
              "9278  -1.85 -0.66  2.72  1.22  0.91 -0.37 -0.38  2.04e-01  0.78 -0.71  ...   \n",
              "3444  -0.89 -0.61  0.62 -2.81  1.53  3.62 -0.26  9.69e-01 -1.38 -0.23  ...   \n",
              "\n",
              "            V22   V23   V24   V25   V26       V27       V28  Class  \\\n",
              "12002 -5.18e-01 -0.21 -1.35 -0.23  0.76  6.40e-02  3.19e-04    0.0   \n",
              "10767 -7.44e-01  0.22 -1.86 -0.11  0.28  1.24e-02 -9.09e-03    0.0   \n",
              "10533  3.36e-02  0.91  0.39 -0.95  0.75  2.18e-02  2.00e-01    0.0   \n",
              "9278   4.81e-03  0.12 -0.13  0.35  0.94 -1.25e-01  8.43e-02    0.0   \n",
              "3444  -4.23e-03  0.06  0.98  0.50 -0.37 -4.01e-03  7.48e-02    0.0   \n",
              "\n",
              "       scaled_amount  scaled_time  \n",
              "12002          -0.24         0.98  \n",
              "10767          -0.35         0.68  \n",
              "10533           1.35         0.62  \n",
              "9278            0.23         0.25  \n",
              "3444            0.41        -1.07  \n",
              "\n",
              "[5 rows x 31 columns]"
            ],
            "text/html": [
              "\n",
              "  <div id=\"df-971e5a52-7551-4e68-8709-e285e92fdfe5\">\n",
              "    <div class=\"colab-df-container\">\n",
              "      <div>\n",
              "<style scoped>\n",
              "    .dataframe tbody tr th:only-of-type {\n",
              "        vertical-align: middle;\n",
              "    }\n",
              "\n",
              "    .dataframe tbody tr th {\n",
              "        vertical-align: top;\n",
              "    }\n",
              "\n",
              "    .dataframe thead th {\n",
              "        text-align: right;\n",
              "    }\n",
              "</style>\n",
              "<table border=\"1\" class=\"dataframe\">\n",
              "  <thead>\n",
              "    <tr style=\"text-align: right;\">\n",
              "      <th></th>\n",
              "      <th>V1</th>\n",
              "      <th>V2</th>\n",
              "      <th>V3</th>\n",
              "      <th>V4</th>\n",
              "      <th>V5</th>\n",
              "      <th>V6</th>\n",
              "      <th>V7</th>\n",
              "      <th>V8</th>\n",
              "      <th>V9</th>\n",
              "      <th>V10</th>\n",
              "      <th>...</th>\n",
              "      <th>V22</th>\n",
              "      <th>V23</th>\n",
              "      <th>V24</th>\n",
              "      <th>V25</th>\n",
              "      <th>V26</th>\n",
              "      <th>V27</th>\n",
              "      <th>V28</th>\n",
              "      <th>Class</th>\n",
              "      <th>scaled_amount</th>\n",
              "      <th>scaled_time</th>\n",
              "    </tr>\n",
              "  </thead>\n",
              "  <tbody>\n",
              "    <tr>\n",
              "      <th>12002</th>\n",
              "      <td>-0.88</td>\n",
              "      <td>0.86</td>\n",
              "      <td>1.21</td>\n",
              "      <td>-1.52</td>\n",
              "      <td>0.83</td>\n",
              "      <td>0.27</td>\n",
              "      <td>0.64</td>\n",
              "      <td>-1.57e-01</td>\n",
              "      <td>1.78</td>\n",
              "      <td>-0.51</td>\n",
              "      <td>...</td>\n",
              "      <td>-5.18e-01</td>\n",
              "      <td>-0.21</td>\n",
              "      <td>-1.35</td>\n",
              "      <td>-0.23</td>\n",
              "      <td>0.76</td>\n",
              "      <td>6.40e-02</td>\n",
              "      <td>3.19e-04</td>\n",
              "      <td>0.0</td>\n",
              "      <td>-0.24</td>\n",
              "      <td>0.98</td>\n",
              "    </tr>\n",
              "    <tr>\n",
              "      <th>10767</th>\n",
              "      <td>1.13</td>\n",
              "      <td>0.10</td>\n",
              "      <td>0.28</td>\n",
              "      <td>0.32</td>\n",
              "      <td>0.74</td>\n",
              "      <td>1.61</td>\n",
              "      <td>-0.46</td>\n",
              "      <td>3.90e-01</td>\n",
              "      <td>1.42</td>\n",
              "      <td>-0.66</td>\n",
              "      <td>...</td>\n",
              "      <td>-7.44e-01</td>\n",
              "      <td>0.22</td>\n",
              "      <td>-1.86</td>\n",
              "      <td>-0.11</td>\n",
              "      <td>0.28</td>\n",
              "      <td>1.24e-02</td>\n",
              "      <td>-9.09e-03</td>\n",
              "      <td>0.0</td>\n",
              "      <td>-0.35</td>\n",
              "      <td>0.68</td>\n",
              "    </tr>\n",
              "    <tr>\n",
              "      <th>10533</th>\n",
              "      <td>-0.89</td>\n",
              "      <td>-0.52</td>\n",
              "      <td>1.84</td>\n",
              "      <td>0.10</td>\n",
              "      <td>-1.32</td>\n",
              "      <td>0.45</td>\n",
              "      <td>0.92</td>\n",
              "      <td>4.17e-03</td>\n",
              "      <td>1.71</td>\n",
              "      <td>-1.53</td>\n",
              "      <td>...</td>\n",
              "      <td>3.36e-02</td>\n",
              "      <td>0.91</td>\n",
              "      <td>0.39</td>\n",
              "      <td>-0.95</td>\n",
              "      <td>0.75</td>\n",
              "      <td>2.18e-02</td>\n",
              "      <td>2.00e-01</td>\n",
              "      <td>0.0</td>\n",
              "      <td>1.35</td>\n",
              "      <td>0.62</td>\n",
              "    </tr>\n",
              "    <tr>\n",
              "      <th>9278</th>\n",
              "      <td>-1.85</td>\n",
              "      <td>-0.66</td>\n",
              "      <td>2.72</td>\n",
              "      <td>1.22</td>\n",
              "      <td>0.91</td>\n",
              "      <td>-0.37</td>\n",
              "      <td>-0.38</td>\n",
              "      <td>2.04e-01</td>\n",
              "      <td>0.78</td>\n",
              "      <td>-0.71</td>\n",
              "      <td>...</td>\n",
              "      <td>4.81e-03</td>\n",
              "      <td>0.12</td>\n",
              "      <td>-0.13</td>\n",
              "      <td>0.35</td>\n",
              "      <td>0.94</td>\n",
              "      <td>-1.25e-01</td>\n",
              "      <td>8.43e-02</td>\n",
              "      <td>0.0</td>\n",
              "      <td>0.23</td>\n",
              "      <td>0.25</td>\n",
              "    </tr>\n",
              "    <tr>\n",
              "      <th>3444</th>\n",
              "      <td>-0.89</td>\n",
              "      <td>-0.61</td>\n",
              "      <td>0.62</td>\n",
              "      <td>-2.81</td>\n",
              "      <td>1.53</td>\n",
              "      <td>3.62</td>\n",
              "      <td>-0.26</td>\n",
              "      <td>9.69e-01</td>\n",
              "      <td>-1.38</td>\n",
              "      <td>-0.23</td>\n",
              "      <td>...</td>\n",
              "      <td>-4.23e-03</td>\n",
              "      <td>0.06</td>\n",
              "      <td>0.98</td>\n",
              "      <td>0.50</td>\n",
              "      <td>-0.37</td>\n",
              "      <td>-4.01e-03</td>\n",
              "      <td>7.48e-02</td>\n",
              "      <td>0.0</td>\n",
              "      <td>0.41</td>\n",
              "      <td>-1.07</td>\n",
              "    </tr>\n",
              "  </tbody>\n",
              "</table>\n",
              "<p>5 rows × 31 columns</p>\n",
              "</div>\n",
              "      <button class=\"colab-df-convert\" onclick=\"convertToInteractive('df-971e5a52-7551-4e68-8709-e285e92fdfe5')\"\n",
              "              title=\"Convert this dataframe to an interactive table.\"\n",
              "              style=\"display:none;\">\n",
              "        \n",
              "  <svg xmlns=\"http://www.w3.org/2000/svg\" height=\"24px\"viewBox=\"0 0 24 24\"\n",
              "       width=\"24px\">\n",
              "    <path d=\"M0 0h24v24H0V0z\" fill=\"none\"/>\n",
              "    <path d=\"M18.56 5.44l.94 2.06.94-2.06 2.06-.94-2.06-.94-.94-2.06-.94 2.06-2.06.94zm-11 1L8.5 8.5l.94-2.06 2.06-.94-2.06-.94L8.5 2.5l-.94 2.06-2.06.94zm10 10l.94 2.06.94-2.06 2.06-.94-2.06-.94-.94-2.06-.94 2.06-2.06.94z\"/><path d=\"M17.41 7.96l-1.37-1.37c-.4-.4-.92-.59-1.43-.59-.52 0-1.04.2-1.43.59L10.3 9.45l-7.72 7.72c-.78.78-.78 2.05 0 2.83L4 21.41c.39.39.9.59 1.41.59.51 0 1.02-.2 1.41-.59l7.78-7.78 2.81-2.81c.8-.78.8-2.07 0-2.86zM5.41 20L4 18.59l7.72-7.72 1.47 1.35L5.41 20z\"/>\n",
              "  </svg>\n",
              "      </button>\n",
              "      \n",
              "  <style>\n",
              "    .colab-df-container {\n",
              "      display:flex;\n",
              "      flex-wrap:wrap;\n",
              "      gap: 12px;\n",
              "    }\n",
              "\n",
              "    .colab-df-convert {\n",
              "      background-color: #E8F0FE;\n",
              "      border: none;\n",
              "      border-radius: 50%;\n",
              "      cursor: pointer;\n",
              "      display: none;\n",
              "      fill: #1967D2;\n",
              "      height: 32px;\n",
              "      padding: 0 0 0 0;\n",
              "      width: 32px;\n",
              "    }\n",
              "\n",
              "    .colab-df-convert:hover {\n",
              "      background-color: #E2EBFA;\n",
              "      box-shadow: 0px 1px 2px rgba(60, 64, 67, 0.3), 0px 1px 3px 1px rgba(60, 64, 67, 0.15);\n",
              "      fill: #174EA6;\n",
              "    }\n",
              "\n",
              "    [theme=dark] .colab-df-convert {\n",
              "      background-color: #3B4455;\n",
              "      fill: #D2E3FC;\n",
              "    }\n",
              "\n",
              "    [theme=dark] .colab-df-convert:hover {\n",
              "      background-color: #434B5C;\n",
              "      box-shadow: 0px 1px 3px 1px rgba(0, 0, 0, 0.15);\n",
              "      filter: drop-shadow(0px 1px 2px rgba(0, 0, 0, 0.3));\n",
              "      fill: #FFFFFF;\n",
              "    }\n",
              "  </style>\n",
              "\n",
              "      <script>\n",
              "        const buttonEl =\n",
              "          document.querySelector('#df-971e5a52-7551-4e68-8709-e285e92fdfe5 button.colab-df-convert');\n",
              "        buttonEl.style.display =\n",
              "          google.colab.kernel.accessAllowed ? 'block' : 'none';\n",
              "\n",
              "        async function convertToInteractive(key) {\n",
              "          const element = document.querySelector('#df-971e5a52-7551-4e68-8709-e285e92fdfe5');\n",
              "          const dataTable =\n",
              "            await google.colab.kernel.invokeFunction('convertToInteractive',\n",
              "                                                     [key], {});\n",
              "          if (!dataTable) return;\n",
              "\n",
              "          const docLinkHtml = 'Like what you see? Visit the ' +\n",
              "            '<a target=\"_blank\" href=https://colab.research.google.com/notebooks/data_table.ipynb>data table notebook</a>'\n",
              "            + ' to learn more about interactive tables.';\n",
              "          element.innerHTML = '';\n",
              "          dataTable['output_type'] = 'display_data';\n",
              "          await google.colab.output.renderOutput(dataTable, element);\n",
              "          const docLink = document.createElement('div');\n",
              "          docLink.innerHTML = docLinkHtml;\n",
              "          element.appendChild(docLink);\n",
              "        }\n",
              "      </script>\n",
              "    </div>\n",
              "  </div>\n",
              "  "
            ]
          },
          "metadata": {},
          "execution_count": 21
        }
      ]
    },
    {
      "cell_type": "code",
      "source": [
        "#concatenating both into a subsample data set with equal class distribution\n",
        "selected.reset_index(drop=True, inplace=True)\n",
        "fraud.reset_index(drop=True, inplace=True)"
      ],
      "metadata": {
        "id": "dyPkSXQgSwxN"
      },
      "execution_count": 22,
      "outputs": []
    },
    {
      "cell_type": "code",
      "source": [
        "subsample = pd.concat([selected, fraud])\n",
        "len(subsample)"
      ],
      "metadata": {
        "colab": {
          "base_uri": "https://localhost:8080/"
        },
        "id": "aW23ahj6SzJO",
        "outputId": "c26aead5-e076-4dae-d12a-73b510302f8b"
      },
      "execution_count": 23,
      "outputs": [
        {
          "output_type": "execute_result",
          "data": {
            "text/plain": [
              "154"
            ]
          },
          "metadata": {},
          "execution_count": 23
        }
      ]
    },
    {
      "cell_type": "code",
      "source": [
        "#shuffling our data set\n",
        "subsample = subsample.sample(frac=1).reset_index(drop=True)\n",
        "subsample.head(5)"
      ],
      "metadata": {
        "colab": {
          "base_uri": "https://localhost:8080/",
          "height": 299
        },
        "id": "gAjm9x5iS1Ce",
        "outputId": "01111ad9-2576-4a6c-e597-ea0c5050b8c3"
      },
      "execution_count": 24,
      "outputs": [
        {
          "output_type": "execute_result",
          "data": {
            "text/plain": [
              "      V1    V2     V3     V4    V5    V6     V7    V8    V9    V10  ...   V22  \\\n",
              "0  -2.54  5.79  -7.62   6.40 -0.07 -3.14  -3.10  1.82 -3.88  -7.30  ... -0.45   \n",
              "1 -15.40  7.47 -19.03  11.17 -6.89 -2.12 -14.91 -0.72 -7.18 -14.17  ...  0.73   \n",
              "2  -1.46 -0.52   1.00   1.23 -0.34  0.69   1.95 -0.09  0.83  -1.33  ... -0.14   \n",
              "3  -0.62  0.11   1.56  -0.53  0.06 -0.64   0.35 -0.02  1.67  -1.36  ...  0.26   \n",
              "4 -16.37  9.22 -23.27  11.84 -9.46 -2.45 -16.93  1.38 -6.29 -13.00  ...  1.00   \n",
              "\n",
              "    V23   V24   V25   V26   V27   V28  Class  scaled_amount  scaled_time  \n",
              "0 -0.40 -0.29  1.01  0.43  0.41  0.31    1.0          -0.35        -0.51  \n",
              "1 -0.35 -0.98  1.00  0.82  2.26 -1.18    1.0          -0.35         0.48  \n",
              "2  0.85 -0.39  0.35 -0.39 -0.06  0.14    0.0           2.02         1.09  \n",
              "3  0.17  0.41 -0.76  0.79  0.06  0.17    0.0          -0.10        -0.30  \n",
              "4  1.19 -1.05 -0.04  0.66  2.12 -1.42    1.0          -0.35         0.71  \n",
              "\n",
              "[5 rows x 31 columns]"
            ],
            "text/html": [
              "\n",
              "  <div id=\"df-8902b3e7-4e5d-482d-9afd-56e185057c1c\">\n",
              "    <div class=\"colab-df-container\">\n",
              "      <div>\n",
              "<style scoped>\n",
              "    .dataframe tbody tr th:only-of-type {\n",
              "        vertical-align: middle;\n",
              "    }\n",
              "\n",
              "    .dataframe tbody tr th {\n",
              "        vertical-align: top;\n",
              "    }\n",
              "\n",
              "    .dataframe thead th {\n",
              "        text-align: right;\n",
              "    }\n",
              "</style>\n",
              "<table border=\"1\" class=\"dataframe\">\n",
              "  <thead>\n",
              "    <tr style=\"text-align: right;\">\n",
              "      <th></th>\n",
              "      <th>V1</th>\n",
              "      <th>V2</th>\n",
              "      <th>V3</th>\n",
              "      <th>V4</th>\n",
              "      <th>V5</th>\n",
              "      <th>V6</th>\n",
              "      <th>V7</th>\n",
              "      <th>V8</th>\n",
              "      <th>V9</th>\n",
              "      <th>V10</th>\n",
              "      <th>...</th>\n",
              "      <th>V22</th>\n",
              "      <th>V23</th>\n",
              "      <th>V24</th>\n",
              "      <th>V25</th>\n",
              "      <th>V26</th>\n",
              "      <th>V27</th>\n",
              "      <th>V28</th>\n",
              "      <th>Class</th>\n",
              "      <th>scaled_amount</th>\n",
              "      <th>scaled_time</th>\n",
              "    </tr>\n",
              "  </thead>\n",
              "  <tbody>\n",
              "    <tr>\n",
              "      <th>0</th>\n",
              "      <td>-2.54</td>\n",
              "      <td>5.79</td>\n",
              "      <td>-7.62</td>\n",
              "      <td>6.40</td>\n",
              "      <td>-0.07</td>\n",
              "      <td>-3.14</td>\n",
              "      <td>-3.10</td>\n",
              "      <td>1.82</td>\n",
              "      <td>-3.88</td>\n",
              "      <td>-7.30</td>\n",
              "      <td>...</td>\n",
              "      <td>-0.45</td>\n",
              "      <td>-0.40</td>\n",
              "      <td>-0.29</td>\n",
              "      <td>1.01</td>\n",
              "      <td>0.43</td>\n",
              "      <td>0.41</td>\n",
              "      <td>0.31</td>\n",
              "      <td>1.0</td>\n",
              "      <td>-0.35</td>\n",
              "      <td>-0.51</td>\n",
              "    </tr>\n",
              "    <tr>\n",
              "      <th>1</th>\n",
              "      <td>-15.40</td>\n",
              "      <td>7.47</td>\n",
              "      <td>-19.03</td>\n",
              "      <td>11.17</td>\n",
              "      <td>-6.89</td>\n",
              "      <td>-2.12</td>\n",
              "      <td>-14.91</td>\n",
              "      <td>-0.72</td>\n",
              "      <td>-7.18</td>\n",
              "      <td>-14.17</td>\n",
              "      <td>...</td>\n",
              "      <td>0.73</td>\n",
              "      <td>-0.35</td>\n",
              "      <td>-0.98</td>\n",
              "      <td>1.00</td>\n",
              "      <td>0.82</td>\n",
              "      <td>2.26</td>\n",
              "      <td>-1.18</td>\n",
              "      <td>1.0</td>\n",
              "      <td>-0.35</td>\n",
              "      <td>0.48</td>\n",
              "    </tr>\n",
              "    <tr>\n",
              "      <th>2</th>\n",
              "      <td>-1.46</td>\n",
              "      <td>-0.52</td>\n",
              "      <td>1.00</td>\n",
              "      <td>1.23</td>\n",
              "      <td>-0.34</td>\n",
              "      <td>0.69</td>\n",
              "      <td>1.95</td>\n",
              "      <td>-0.09</td>\n",
              "      <td>0.83</td>\n",
              "      <td>-1.33</td>\n",
              "      <td>...</td>\n",
              "      <td>-0.14</td>\n",
              "      <td>0.85</td>\n",
              "      <td>-0.39</td>\n",
              "      <td>0.35</td>\n",
              "      <td>-0.39</td>\n",
              "      <td>-0.06</td>\n",
              "      <td>0.14</td>\n",
              "      <td>0.0</td>\n",
              "      <td>2.02</td>\n",
              "      <td>1.09</td>\n",
              "    </tr>\n",
              "    <tr>\n",
              "      <th>3</th>\n",
              "      <td>-0.62</td>\n",
              "      <td>0.11</td>\n",
              "      <td>1.56</td>\n",
              "      <td>-0.53</td>\n",
              "      <td>0.06</td>\n",
              "      <td>-0.64</td>\n",
              "      <td>0.35</td>\n",
              "      <td>-0.02</td>\n",
              "      <td>1.67</td>\n",
              "      <td>-1.36</td>\n",
              "      <td>...</td>\n",
              "      <td>0.26</td>\n",
              "      <td>0.17</td>\n",
              "      <td>0.41</td>\n",
              "      <td>-0.76</td>\n",
              "      <td>0.79</td>\n",
              "      <td>0.06</td>\n",
              "      <td>0.17</td>\n",
              "      <td>0.0</td>\n",
              "      <td>-0.10</td>\n",
              "      <td>-0.30</td>\n",
              "    </tr>\n",
              "    <tr>\n",
              "      <th>4</th>\n",
              "      <td>-16.37</td>\n",
              "      <td>9.22</td>\n",
              "      <td>-23.27</td>\n",
              "      <td>11.84</td>\n",
              "      <td>-9.46</td>\n",
              "      <td>-2.45</td>\n",
              "      <td>-16.93</td>\n",
              "      <td>1.38</td>\n",
              "      <td>-6.29</td>\n",
              "      <td>-13.00</td>\n",
              "      <td>...</td>\n",
              "      <td>1.00</td>\n",
              "      <td>1.19</td>\n",
              "      <td>-1.05</td>\n",
              "      <td>-0.04</td>\n",
              "      <td>0.66</td>\n",
              "      <td>2.12</td>\n",
              "      <td>-1.42</td>\n",
              "      <td>1.0</td>\n",
              "      <td>-0.35</td>\n",
              "      <td>0.71</td>\n",
              "    </tr>\n",
              "  </tbody>\n",
              "</table>\n",
              "<p>5 rows × 31 columns</p>\n",
              "</div>\n",
              "      <button class=\"colab-df-convert\" onclick=\"convertToInteractive('df-8902b3e7-4e5d-482d-9afd-56e185057c1c')\"\n",
              "              title=\"Convert this dataframe to an interactive table.\"\n",
              "              style=\"display:none;\">\n",
              "        \n",
              "  <svg xmlns=\"http://www.w3.org/2000/svg\" height=\"24px\"viewBox=\"0 0 24 24\"\n",
              "       width=\"24px\">\n",
              "    <path d=\"M0 0h24v24H0V0z\" fill=\"none\"/>\n",
              "    <path d=\"M18.56 5.44l.94 2.06.94-2.06 2.06-.94-2.06-.94-.94-2.06-.94 2.06-2.06.94zm-11 1L8.5 8.5l.94-2.06 2.06-.94-2.06-.94L8.5 2.5l-.94 2.06-2.06.94zm10 10l.94 2.06.94-2.06 2.06-.94-2.06-.94-.94-2.06-.94 2.06-2.06.94z\"/><path d=\"M17.41 7.96l-1.37-1.37c-.4-.4-.92-.59-1.43-.59-.52 0-1.04.2-1.43.59L10.3 9.45l-7.72 7.72c-.78.78-.78 2.05 0 2.83L4 21.41c.39.39.9.59 1.41.59.51 0 1.02-.2 1.41-.59l7.78-7.78 2.81-2.81c.8-.78.8-2.07 0-2.86zM5.41 20L4 18.59l7.72-7.72 1.47 1.35L5.41 20z\"/>\n",
              "  </svg>\n",
              "      </button>\n",
              "      \n",
              "  <style>\n",
              "    .colab-df-container {\n",
              "      display:flex;\n",
              "      flex-wrap:wrap;\n",
              "      gap: 12px;\n",
              "    }\n",
              "\n",
              "    .colab-df-convert {\n",
              "      background-color: #E8F0FE;\n",
              "      border: none;\n",
              "      border-radius: 50%;\n",
              "      cursor: pointer;\n",
              "      display: none;\n",
              "      fill: #1967D2;\n",
              "      height: 32px;\n",
              "      padding: 0 0 0 0;\n",
              "      width: 32px;\n",
              "    }\n",
              "\n",
              "    .colab-df-convert:hover {\n",
              "      background-color: #E2EBFA;\n",
              "      box-shadow: 0px 1px 2px rgba(60, 64, 67, 0.3), 0px 1px 3px 1px rgba(60, 64, 67, 0.15);\n",
              "      fill: #174EA6;\n",
              "    }\n",
              "\n",
              "    [theme=dark] .colab-df-convert {\n",
              "      background-color: #3B4455;\n",
              "      fill: #D2E3FC;\n",
              "    }\n",
              "\n",
              "    [theme=dark] .colab-df-convert:hover {\n",
              "      background-color: #434B5C;\n",
              "      box-shadow: 0px 1px 3px 1px rgba(0, 0, 0, 0.15);\n",
              "      filter: drop-shadow(0px 1px 2px rgba(0, 0, 0, 0.3));\n",
              "      fill: #FFFFFF;\n",
              "    }\n",
              "  </style>\n",
              "\n",
              "      <script>\n",
              "        const buttonEl =\n",
              "          document.querySelector('#df-8902b3e7-4e5d-482d-9afd-56e185057c1c button.colab-df-convert');\n",
              "        buttonEl.style.display =\n",
              "          google.colab.kernel.accessAllowed ? 'block' : 'none';\n",
              "\n",
              "        async function convertToInteractive(key) {\n",
              "          const element = document.querySelector('#df-8902b3e7-4e5d-482d-9afd-56e185057c1c');\n",
              "          const dataTable =\n",
              "            await google.colab.kernel.invokeFunction('convertToInteractive',\n",
              "                                                     [key], {});\n",
              "          if (!dataTable) return;\n",
              "\n",
              "          const docLinkHtml = 'Like what you see? Visit the ' +\n",
              "            '<a target=\"_blank\" href=https://colab.research.google.com/notebooks/data_table.ipynb>data table notebook</a>'\n",
              "            + ' to learn more about interactive tables.';\n",
              "          element.innerHTML = '';\n",
              "          dataTable['output_type'] = 'display_data';\n",
              "          await google.colab.output.renderOutput(dataTable, element);\n",
              "          const docLink = document.createElement('div');\n",
              "          docLink.innerHTML = docLinkHtml;\n",
              "          element.appendChild(docLink);\n",
              "        }\n",
              "      </script>\n",
              "    </div>\n",
              "  </div>\n",
              "  "
            ]
          },
          "metadata": {},
          "execution_count": 24
        }
      ]
    },
    {
      "cell_type": "code",
      "source": [
        "new_counts = subsample.Class.value_counts()\n",
        "plt.figure(figsize=(8,6))\n",
        "sns.barplot(x=new_counts.index, y=new_counts)\n",
        "plt.title('Count of Fraudulent vs. Non-Fraudulent Transactions In Subsample')\n",
        "plt.ylabel('Count')\n",
        "plt.xlabel('Class (0:Non-Fraudulent, 1:Fraudulent)')"
      ],
      "metadata": {
        "colab": {
          "base_uri": "https://localhost:8080/",
          "height": 421
        },
        "id": "66YfqUwHS44D",
        "outputId": "a1232608-61b0-4d18-a5ba-fc8a3b44a2a3"
      },
      "execution_count": 25,
      "outputs": [
        {
          "output_type": "execute_result",
          "data": {
            "text/plain": [
              "Text(0.5, 0, 'Class (0:Non-Fraudulent, 1:Fraudulent)')"
            ]
          },
          "metadata": {},
          "execution_count": 25
        },
        {
          "output_type": "display_data",
          "data": {
            "text/plain": [
              "<Figure size 576x432 with 1 Axes>"
            ],
            "image/png": "[encoded data removed]"
          },
          "metadata": {
            "needs_background": "light"
          }
        }
      ]
    },
    {
      "cell_type": "code",
      "source": [
        "#taking a look at correlations again\n",
        "corr = subsample.corr()\n",
        "corr = corr[['Class']]\n",
        "corr"
      ],
      "metadata": {
        "colab": {
          "base_uri": "https://localhost:8080/",
          "height": 1000
        },
        "id": "s1zvafdVS5iz",
        "outputId": "5f59a330-9d5c-4d11-b555-a7ee48b73e44"
      },
      "execution_count": 26,
      "outputs": [
        {
          "output_type": "execute_result",
          "data": {
            "text/plain": [
              "               Class\n",
              "V1             -0.53\n",
              "V2              0.68\n",
              "V3             -0.70\n",
              "V4              0.82\n",
              "V5             -0.53\n",
              "V6             -0.65\n",
              "V7             -0.65\n",
              "V8              0.45\n",
              "V9             -0.71\n",
              "V10            -0.75\n",
              "V11             0.76\n",
              "V12            -0.79\n",
              "V13            -0.07\n",
              "V14            -0.81\n",
              "V15            -0.02\n",
              "V16            -0.72\n",
              "V17            -0.70\n",
              "V18            -0.61\n",
              "V19             0.26\n",
              "V20             0.40\n",
              "V21             0.35\n",
              "V22            -0.18\n",
              "V23            -0.06\n",
              "V24            -0.24\n",
              "V25             0.20\n",
              "V26             0.05\n",
              "V27             0.47\n",
              "V28             0.14\n",
              "Class           1.00\n",
              "scaled_amount   0.04\n",
              "scaled_time     0.25"
            ],
            "text/html": [
              "\n",
              "  <div id=\"df-6a76d0e6-88cb-4491-9c6e-17682edd513d\">\n",
              "    <div class=\"colab-df-container\">\n",
              "      <div>\n",
              "<style scoped>\n",
              "    .dataframe tbody tr th:only-of-type {\n",
              "        vertical-align: middle;\n",
              "    }\n",
              "\n",
              "    .dataframe tbody tr th {\n",
              "        vertical-align: top;\n",
              "    }\n",
              "\n",
              "    .dataframe thead th {\n",
              "        text-align: right;\n",
              "    }\n",
              "</style>\n",
              "<table border=\"1\" class=\"dataframe\">\n",
              "  <thead>\n",
              "    <tr style=\"text-align: right;\">\n",
              "      <th></th>\n",
              "      <th>Class</th>\n",
              "    </tr>\n",
              "  </thead>\n",
              "  <tbody>\n",
              "    <tr>\n",
              "      <th>V1</th>\n",
              "      <td>-0.53</td>\n",
              "    </tr>\n",
              "    <tr>\n",
              "      <th>V2</th>\n",
              "      <td>0.68</td>\n",
              "    </tr>\n",
              "    <tr>\n",
              "      <th>V3</th>\n",
              "      <td>-0.70</td>\n",
              "    </tr>\n",
              "    <tr>\n",
              "      <th>V4</th>\n",
              "      <td>0.82</td>\n",
              "    </tr>\n",
              "    <tr>\n",
              "      <th>V5</th>\n",
              "      <td>-0.53</td>\n",
              "    </tr>\n",
              "    <tr>\n",
              "      <th>V6</th>\n",
              "      <td>-0.65</td>\n",
              "    </tr>\n",
              "    <tr>\n",
              "      <th>V7</th>\n",
              "      <td>-0.65</td>\n",
              "    </tr>\n",
              "    <tr>\n",
              "      <th>V8</th>\n",
              "      <td>0.45</td>\n",
              "    </tr>\n",
              "    <tr>\n",
              "      <th>V9</th>\n",
              "      <td>-0.71</td>\n",
              "    </tr>\n",
              "    <tr>\n",
              "      <th>V10</th>\n",
              "      <td>-0.75</td>\n",
              "    </tr>\n",
              "    <tr>\n",
              "      <th>V11</th>\n",
              "      <td>0.76</td>\n",
              "    </tr>\n",
              "    <tr>\n",
              "      <th>V12</th>\n",
              "      <td>-0.79</td>\n",
              "    </tr>\n",
              "    <tr>\n",
              "      <th>V13</th>\n",
              "      <td>-0.07</td>\n",
              "    </tr>\n",
              "    <tr>\n",
              "      <th>V14</th>\n",
              "      <td>-0.81</td>\n",
              "    </tr>\n",
              "    <tr>\n",
              "      <th>V15</th>\n",
              "      <td>-0.02</td>\n",
              "    </tr>\n",
              "    <tr>\n",
              "      <th>V16</th>\n",
              "      <td>-0.72</td>\n",
              "    </tr>\n",
              "    <tr>\n",
              "      <th>V17</th>\n",
              "      <td>-0.70</td>\n",
              "    </tr>\n",
              "    <tr>\n",
              "      <th>V18</th>\n",
              "      <td>-0.61</td>\n",
              "    </tr>\n",
              "    <tr>\n",
              "      <th>V19</th>\n",
              "      <td>0.26</td>\n",
              "    </tr>\n",
              "    <tr>\n",
              "      <th>V20</th>\n",
              "      <td>0.40</td>\n",
              "    </tr>\n",
              "    <tr>\n",
              "      <th>V21</th>\n",
              "      <td>0.35</td>\n",
              "    </tr>\n",
              "    <tr>\n",
              "      <th>V22</th>\n",
              "      <td>-0.18</td>\n",
              "    </tr>\n",
              "    <tr>\n",
              "      <th>V23</th>\n",
              "      <td>-0.06</td>\n",
              "    </tr>\n",
              "    <tr>\n",
              "      <th>V24</th>\n",
              "      <td>-0.24</td>\n",
              "    </tr>\n",
              "    <tr>\n",
              "      <th>V25</th>\n",
              "      <td>0.20</td>\n",
              "    </tr>\n",
              "    <tr>\n",
              "      <th>V26</th>\n",
              "      <td>0.05</td>\n",
              "    </tr>\n",
              "    <tr>\n",
              "      <th>V27</th>\n",
              "      <td>0.47</td>\n",
              "    </tr>\n",
              "    <tr>\n",
              "      <th>V28</th>\n",
              "      <td>0.14</td>\n",
              "    </tr>\n",
              "    <tr>\n",
              "      <th>Class</th>\n",
              "      <td>1.00</td>\n",
              "    </tr>\n",
              "    <tr>\n",
              "      <th>scaled_amount</th>\n",
              "      <td>0.04</td>\n",
              "    </tr>\n",
              "    <tr>\n",
              "      <th>scaled_time</th>\n",
              "      <td>0.25</td>\n",
              "    </tr>\n",
              "  </tbody>\n",
              "</table>\n",
              "</div>\n",
              "      <button class=\"colab-df-convert\" onclick=\"convertToInteractive('df-6a76d0e6-88cb-4491-9c6e-17682edd513d')\"\n",
              "              title=\"Convert this dataframe to an interactive table.\"\n",
              "              style=\"display:none;\">\n",
              "        \n",
              "  <svg xmlns=\"http://www.w3.org/2000/svg\" height=\"24px\"viewBox=\"0 0 24 24\"\n",
              "       width=\"24px\">\n",
              "    <path d=\"M0 0h24v24H0V0z\" fill=\"none\"/>\n",
              "    <path d=\"M18.56 5.44l.94 2.06.94-2.06 2.06-.94-2.06-.94-.94-2.06-.94 2.06-2.06.94zm-11 1L8.5 8.5l.94-2.06 2.06-.94-2.06-.94L8.5 2.5l-.94 2.06-2.06.94zm10 10l.94 2.06.94-2.06 2.06-.94-2.06-.94-.94-2.06-.94 2.06-2.06.94z\"/><path d=\"M17.41 7.96l-1.37-1.37c-.4-.4-.92-.59-1.43-.59-.52 0-1.04.2-1.43.59L10.3 9.45l-7.72 7.72c-.78.78-.78 2.05 0 2.83L4 21.41c.39.39.9.59 1.41.59.51 0 1.02-.2 1.41-.59l7.78-7.78 2.81-2.81c.8-.78.8-2.07 0-2.86zM5.41 20L4 18.59l7.72-7.72 1.47 1.35L5.41 20z\"/>\n",
              "  </svg>\n",
              "      </button>\n",
              "      \n",
              "  <style>\n",
              "    .colab-df-container {\n",
              "      display:flex;\n",
              "      flex-wrap:wrap;\n",
              "      gap: 12px;\n",
              "    }\n",
              "\n",
              "    .colab-df-convert {\n",
              "      background-color: #E8F0FE;\n",
              "      border: none;\n",
              "      border-radius: 50%;\n",
              "      cursor: pointer;\n",
              "      display: none;\n",
              "      fill: #1967D2;\n",
              "      height: 32px;\n",
              "      padding: 0 0 0 0;\n",
              "      width: 32px;\n",
              "    }\n",
              "\n",
              "    .colab-df-convert:hover {\n",
              "      background-color: #E2EBFA;\n",
              "      box-shadow: 0px 1px 2px rgba(60, 64, 67, 0.3), 0px 1px 3px 1px rgba(60, 64, 67, 0.15);\n",
              "      fill: #174EA6;\n",
              "    }\n",
              "\n",
              "    [theme=dark] .colab-df-convert {\n",
              "      background-color: #3B4455;\n",
              "      fill: #D2E3FC;\n",
              "    }\n",
              "\n",
              "    [theme=dark] .colab-df-convert:hover {\n",
              "      background-color: #434B5C;\n",
              "      box-shadow: 0px 1px 3px 1px rgba(0, 0, 0, 0.15);\n",
              "      filter: drop-shadow(0px 1px 2px rgba(0, 0, 0, 0.3));\n",
              "      fill: #FFFFFF;\n",
              "    }\n",
              "  </style>\n",
              "\n",
              "      <script>\n",
              "        const buttonEl =\n",
              "          document.querySelector('#df-6a76d0e6-88cb-4491-9c6e-17682edd513d button.colab-df-convert');\n",
              "        buttonEl.style.display =\n",
              "          google.colab.kernel.accessAllowed ? 'block' : 'none';\n",
              "\n",
              "        async function convertToInteractive(key) {\n",
              "          const element = document.querySelector('#df-6a76d0e6-88cb-4491-9c6e-17682edd513d');\n",
              "          const dataTable =\n",
              "            await google.colab.kernel.invokeFunction('convertToInteractive',\n",
              "                                                     [key], {});\n",
              "          if (!dataTable) return;\n",
              "\n",
              "          const docLinkHtml = 'Like what you see? Visit the ' +\n",
              "            '<a target=\"_blank\" href=https://colab.research.google.com/notebooks/data_table.ipynb>data table notebook</a>'\n",
              "            + ' to learn more about interactive tables.';\n",
              "          element.innerHTML = '';\n",
              "          dataTable['output_type'] = 'display_data';\n",
              "          await google.colab.output.renderOutput(dataTable, element);\n",
              "          const docLink = document.createElement('div');\n",
              "          docLink.innerHTML = docLinkHtml;\n",
              "          element.appendChild(docLink);\n",
              "        }\n",
              "      </script>\n",
              "    </div>\n",
              "  </div>\n",
              "  "
            ]
          },
          "metadata": {},
          "execution_count": 26
        }
      ]
    },
    {
      "cell_type": "code",
      "source": [
        "#negative correlations smaller than -0.5\n",
        "corr[corr.Class < -0.5]"
      ],
      "metadata": {
        "colab": {
          "base_uri": "https://localhost:8080/",
          "height": 426
        },
        "id": "cjXkbyJLS7t3",
        "outputId": "c3b40a2b-8d98-410d-9688-3bc7420ccc45"
      },
      "execution_count": 27,
      "outputs": [
        {
          "output_type": "execute_result",
          "data": {
            "text/plain": [
              "     Class\n",
              "V1   -0.53\n",
              "V3   -0.70\n",
              "V5   -0.53\n",
              "V6   -0.65\n",
              "V7   -0.65\n",
              "V9   -0.71\n",
              "V10  -0.75\n",
              "V12  -0.79\n",
              "V14  -0.81\n",
              "V16  -0.72\n",
              "V17  -0.70\n",
              "V18  -0.61"
            ],
            "text/html": [
              "\n",
              "  <div id=\"df-fb673e38-f7f2-4d45-9c39-c1dfb7542a94\">\n",
              "    <div class=\"colab-df-container\">\n",
              "      <div>\n",
              "<style scoped>\n",
              "    .dataframe tbody tr th:only-of-type {\n",
              "        vertical-align: middle;\n",
              "    }\n",
              "\n",
              "    .dataframe tbody tr th {\n",
              "        vertical-align: top;\n",
              "    }\n",
              "\n",
              "    .dataframe thead th {\n",
              "        text-align: right;\n",
              "    }\n",
              "</style>\n",
              "<table border=\"1\" class=\"dataframe\">\n",
              "  <thead>\n",
              "    <tr style=\"text-align: right;\">\n",
              "      <th></th>\n",
              "      <th>Class</th>\n",
              "    </tr>\n",
              "  </thead>\n",
              "  <tbody>\n",
              "    <tr>\n",
              "      <th>V1</th>\n",
              "      <td>-0.53</td>\n",
              "    </tr>\n",
              "    <tr>\n",
              "      <th>V3</th>\n",
              "      <td>-0.70</td>\n",
              "    </tr>\n",
              "    <tr>\n",
              "      <th>V5</th>\n",
              "      <td>-0.53</td>\n",
              "    </tr>\n",
              "    <tr>\n",
              "      <th>V6</th>\n",
              "      <td>-0.65</td>\n",
              "    </tr>\n",
              "    <tr>\n",
              "      <th>V7</th>\n",
              "      <td>-0.65</td>\n",
              "    </tr>\n",
              "    <tr>\n",
              "      <th>V9</th>\n",
              "      <td>-0.71</td>\n",
              "    </tr>\n",
              "    <tr>\n",
              "      <th>V10</th>\n",
              "      <td>-0.75</td>\n",
              "    </tr>\n",
              "    <tr>\n",
              "      <th>V12</th>\n",
              "      <td>-0.79</td>\n",
              "    </tr>\n",
              "    <tr>\n",
              "      <th>V14</th>\n",
              "      <td>-0.81</td>\n",
              "    </tr>\n",
              "    <tr>\n",
              "      <th>V16</th>\n",
              "      <td>-0.72</td>\n",
              "    </tr>\n",
              "    <tr>\n",
              "      <th>V17</th>\n",
              "      <td>-0.70</td>\n",
              "    </tr>\n",
              "    <tr>\n",
              "      <th>V18</th>\n",
              "      <td>-0.61</td>\n",
              "    </tr>\n",
              "  </tbody>\n",
              "</table>\n",
              "</div>\n",
              "      <button class=\"colab-df-convert\" onclick=\"convertToInteractive('df-fb673e38-f7f2-4d45-9c39-c1dfb7542a94')\"\n",
              "              title=\"Convert this dataframe to an interactive table.\"\n",
              "              style=\"display:none;\">\n",
              "        \n",
              "  <svg xmlns=\"http://www.w3.org/2000/svg\" height=\"24px\"viewBox=\"0 0 24 24\"\n",
              "       width=\"24px\">\n",
              "    <path d=\"M0 0h24v24H0V0z\" fill=\"none\"/>\n",
              "    <path d=\"M18.56 5.44l.94 2.06.94-2.06 2.06-.94-2.06-.94-.94-2.06-.94 2.06-2.06.94zm-11 1L8.5 8.5l.94-2.06 2.06-.94-2.06-.94L8.5 2.5l-.94 2.06-2.06.94zm10 10l.94 2.06.94-2.06 2.06-.94-2.06-.94-.94-2.06-.94 2.06-2.06.94z\"/><path d=\"M17.41 7.96l-1.37-1.37c-.4-.4-.92-.59-1.43-.59-.52 0-1.04.2-1.43.59L10.3 9.45l-7.72 7.72c-.78.78-.78 2.05 0 2.83L4 21.41c.39.39.9.59 1.41.59.51 0 1.02-.2 1.41-.59l7.78-7.78 2.81-2.81c.8-.78.8-2.07 0-2.86zM5.41 20L4 18.59l7.72-7.72 1.47 1.35L5.41 20z\"/>\n",
              "  </svg>\n",
              "      </button>\n",
              "      \n",
              "  <style>\n",
              "    .colab-df-container {\n",
              "      display:flex;\n",
              "      flex-wrap:wrap;\n",
              "      gap: 12px;\n",
              "    }\n",
              "\n",
              "    .colab-df-convert {\n",
              "      background-color: #E8F0FE;\n",
              "      border: none;\n",
              "      border-radius: 50%;\n",
              "      cursor: pointer;\n",
              "      display: none;\n",
              "      fill: #1967D2;\n",
              "      height: 32px;\n",
              "      padding: 0 0 0 0;\n",
              "      width: 32px;\n",
              "    }\n",
              "\n",
              "    .colab-df-convert:hover {\n",
              "      background-color: #E2EBFA;\n",
              "      box-shadow: 0px 1px 2px rgba(60, 64, 67, 0.3), 0px 1px 3px 1px rgba(60, 64, 67, 0.15);\n",
              "      fill: #174EA6;\n",
              "    }\n",
              "\n",
              "    [theme=dark] .colab-df-convert {\n",
              "      background-color: #3B4455;\n",
              "      fill: #D2E3FC;\n",
              "    }\n",
              "\n",
              "    [theme=dark] .colab-df-convert:hover {\n",
              "      background-color: #434B5C;\n",
              "      box-shadow: 0px 1px 3px 1px rgba(0, 0, 0, 0.15);\n",
              "      filter: drop-shadow(0px 1px 2px rgba(0, 0, 0, 0.3));\n",
              "      fill: #FFFFFF;\n",
              "    }\n",
              "  </style>\n",
              "\n",
              "      <script>\n",
              "        const buttonEl =\n",
              "          document.querySelector('#df-fb673e38-f7f2-4d45-9c39-c1dfb7542a94 button.colab-df-convert');\n",
              "        buttonEl.style.display =\n",
              "          google.colab.kernel.accessAllowed ? 'block' : 'none';\n",
              "\n",
              "        async function convertToInteractive(key) {\n",
              "          const element = document.querySelector('#df-fb673e38-f7f2-4d45-9c39-c1dfb7542a94');\n",
              "          const dataTable =\n",
              "            await google.colab.kernel.invokeFunction('convertToInteractive',\n",
              "                                                     [key], {});\n",
              "          if (!dataTable) return;\n",
              "\n",
              "          const docLinkHtml = 'Like what you see? Visit the ' +\n",
              "            '<a target=\"_blank\" href=https://colab.research.google.com/notebooks/data_table.ipynb>data table notebook</a>'\n",
              "            + ' to learn more about interactive tables.';\n",
              "          element.innerHTML = '';\n",
              "          dataTable['output_type'] = 'display_data';\n",
              "          await google.colab.output.renderOutput(dataTable, element);\n",
              "          const docLink = document.createElement('div');\n",
              "          docLink.innerHTML = docLinkHtml;\n",
              "          element.appendChild(docLink);\n",
              "        }\n",
              "      </script>\n",
              "    </div>\n",
              "  </div>\n",
              "  "
            ]
          },
          "metadata": {},
          "execution_count": 27
        }
      ]
    },
    {
      "cell_type": "code",
      "source": [
        "#positive correlations greater than 0.5\n",
        "corr[corr.Class > 0.5]"
      ],
      "metadata": {
        "colab": {
          "base_uri": "https://localhost:8080/",
          "height": 175
        },
        "id": "sbKeFmetS9qU",
        "outputId": "6ed99d22-12d8-43d9-deba-40cc8235ca0b"
      },
      "execution_count": 28,
      "outputs": [
        {
          "output_type": "execute_result",
          "data": {
            "text/plain": [
              "       Class\n",
              "V2      0.68\n",
              "V4      0.82\n",
              "V11     0.76\n",
              "Class   1.00"
            ],
            "text/html": [
              "\n",
              "  <div id=\"df-c16f9177-73f1-49ff-8848-9e1058f0f729\">\n",
              "    <div class=\"colab-df-container\">\n",
              "      <div>\n",
              "<style scoped>\n",
              "    .dataframe tbody tr th:only-of-type {\n",
              "        vertical-align: middle;\n",
              "    }\n",
              "\n",
              "    .dataframe tbody tr th {\n",
              "        vertical-align: top;\n",
              "    }\n",
              "\n",
              "    .dataframe thead th {\n",
              "        text-align: right;\n",
              "    }\n",
              "</style>\n",
              "<table border=\"1\" class=\"dataframe\">\n",
              "  <thead>\n",
              "    <tr style=\"text-align: right;\">\n",
              "      <th></th>\n",
              "      <th>Class</th>\n",
              "    </tr>\n",
              "  </thead>\n",
              "  <tbody>\n",
              "    <tr>\n",
              "      <th>V2</th>\n",
              "      <td>0.68</td>\n",
              "    </tr>\n",
              "    <tr>\n",
              "      <th>V4</th>\n",
              "      <td>0.82</td>\n",
              "    </tr>\n",
              "    <tr>\n",
              "      <th>V11</th>\n",
              "      <td>0.76</td>\n",
              "    </tr>\n",
              "    <tr>\n",
              "      <th>Class</th>\n",
              "      <td>1.00</td>\n",
              "    </tr>\n",
              "  </tbody>\n",
              "</table>\n",
              "</div>\n",
              "      <button class=\"colab-df-convert\" onclick=\"convertToInteractive('df-c16f9177-73f1-49ff-8848-9e1058f0f729')\"\n",
              "              title=\"Convert this dataframe to an interactive table.\"\n",
              "              style=\"display:none;\">\n",
              "        \n",
              "  <svg xmlns=\"http://www.w3.org/2000/svg\" height=\"24px\"viewBox=\"0 0 24 24\"\n",
              "       width=\"24px\">\n",
              "    <path d=\"M0 0h24v24H0V0z\" fill=\"none\"/>\n",
              "    <path d=\"M18.56 5.44l.94 2.06.94-2.06 2.06-.94-2.06-.94-.94-2.06-.94 2.06-2.06.94zm-11 1L8.5 8.5l.94-2.06 2.06-.94-2.06-.94L8.5 2.5l-.94 2.06-2.06.94zm10 10l.94 2.06.94-2.06 2.06-.94-2.06-.94-.94-2.06-.94 2.06-2.06.94z\"/><path d=\"M17.41 7.96l-1.37-1.37c-.4-.4-.92-.59-1.43-.59-.52 0-1.04.2-1.43.59L10.3 9.45l-7.72 7.72c-.78.78-.78 2.05 0 2.83L4 21.41c.39.39.9.59 1.41.59.51 0 1.02-.2 1.41-.59l7.78-7.78 2.81-2.81c.8-.78.8-2.07 0-2.86zM5.41 20L4 18.59l7.72-7.72 1.47 1.35L5.41 20z\"/>\n",
              "  </svg>\n",
              "      </button>\n",
              "      \n",
              "  <style>\n",
              "    .colab-df-container {\n",
              "      display:flex;\n",
              "      flex-wrap:wrap;\n",
              "      gap: 12px;\n",
              "    }\n",
              "\n",
              "    .colab-df-convert {\n",
              "      background-color: #E8F0FE;\n",
              "      border: none;\n",
              "      border-radius: 50%;\n",
              "      cursor: pointer;\n",
              "      display: none;\n",
              "      fill: #1967D2;\n",
              "      height: 32px;\n",
              "      padding: 0 0 0 0;\n",
              "      width: 32px;\n",
              "    }\n",
              "\n",
              "    .colab-df-convert:hover {\n",
              "      background-color: #E2EBFA;\n",
              "      box-shadow: 0px 1px 2px rgba(60, 64, 67, 0.3), 0px 1px 3px 1px rgba(60, 64, 67, 0.15);\n",
              "      fill: #174EA6;\n",
              "    }\n",
              "\n",
              "    [theme=dark] .colab-df-convert {\n",
              "      background-color: #3B4455;\n",
              "      fill: #D2E3FC;\n",
              "    }\n",
              "\n",
              "    [theme=dark] .colab-df-convert:hover {\n",
              "      background-color: #434B5C;\n",
              "      box-shadow: 0px 1px 3px 1px rgba(0, 0, 0, 0.15);\n",
              "      filter: drop-shadow(0px 1px 2px rgba(0, 0, 0, 0.3));\n",
              "      fill: #FFFFFF;\n",
              "    }\n",
              "  </style>\n",
              "\n",
              "      <script>\n",
              "        const buttonEl =\n",
              "          document.querySelector('#df-c16f9177-73f1-49ff-8848-9e1058f0f729 button.colab-df-convert');\n",
              "        buttonEl.style.display =\n",
              "          google.colab.kernel.accessAllowed ? 'block' : 'none';\n",
              "\n",
              "        async function convertToInteractive(key) {\n",
              "          const element = document.querySelector('#df-c16f9177-73f1-49ff-8848-9e1058f0f729');\n",
              "          const dataTable =\n",
              "            await google.colab.kernel.invokeFunction('convertToInteractive',\n",
              "                                                     [key], {});\n",
              "          if (!dataTable) return;\n",
              "\n",
              "          const docLinkHtml = 'Like what you see? Visit the ' +\n",
              "            '<a target=\"_blank\" href=https://colab.research.google.com/notebooks/data_table.ipynb>data table notebook</a>'\n",
              "            + ' to learn more about interactive tables.';\n",
              "          element.innerHTML = '';\n",
              "          dataTable['output_type'] = 'display_data';\n",
              "          await google.colab.output.renderOutput(dataTable, element);\n",
              "          const docLink = document.createElement('div');\n",
              "          docLink.innerHTML = docLinkHtml;\n",
              "          element.appendChild(docLink);\n",
              "        }\n",
              "      </script>\n",
              "    </div>\n",
              "  </div>\n",
              "  "
            ]
          },
          "metadata": {},
          "execution_count": 28
        }
      ]
    },
    {
      "cell_type": "code",
      "source": [
        "#visualizing the features high negative correlation\n",
        "f, axes = plt.subplots(nrows=2, ncols=4, figsize=(26,16))\n",
        "\n",
        "f.suptitle('Features With High Negative Correlation', size=35)\n",
        "sns.boxplot(x=\"Class\", y=\"V3\", data=subsample, ax=axes[0,0])\n",
        "sns.boxplot(x=\"Class\", y=\"V9\", data=subsample, ax=axes[0,1])\n",
        "sns.boxplot(x=\"Class\", y=\"V10\", data=subsample, ax=axes[0,2])\n",
        "sns.boxplot(x=\"Class\", y=\"V12\", data=subsample, ax=axes[0,3])\n",
        "sns.boxplot(x=\"Class\", y=\"V14\", data=subsample, ax=axes[1,0])\n",
        "sns.boxplot(x=\"Class\", y=\"V16\", data=subsample, ax=axes[1,1])\n",
        "sns.boxplot(x=\"Class\", y=\"V17\", data=subsample, ax=axes[1,2])\n",
        "f.delaxes(axes[1,3])"
      ],
      "metadata": {
        "colab": {
          "base_uri": "https://localhost:8080/",
          "height": 475
        },
        "id": "vAIBB1bqTEIU",
        "outputId": "89d5c820-8171-4bf3-9245-1e01f6f6e6b2"
      },
      "execution_count": 29,
      "outputs": [
        {
          "output_type": "display_data",
          "data": {
            "text/plain": [
              "<Figure size 1872x1152 with 7 Axes>"
            ],
            "image/png": "[encoded data removed]"
          },
          "metadata": {
            "needs_background": "light"
          }
        }
      ]
    },
    {
      "cell_type": "code",
      "source": [
        "#visualizing the features high positive correlation\n",
        "f, axes = plt.subplots(nrows=1, ncols=2, figsize=(18,9))\n",
        "\n",
        "f.suptitle('Features With High Positive Correlation', size=20)\n",
        "sns.boxplot(x=\"Class\", y=\"V4\", data=subsample, ax=axes[0])\n",
        "sns.boxplot(x=\"Class\", y=\"V11\", data=subsample, ax=axes[1])"
      ],
      "metadata": {
        "colab": {
          "base_uri": "https://localhost:8080/",
          "height": 415
        },
        "id": "3jWWWzHATN0O",
        "outputId": "4811ff7c-932a-4073-f52a-80f1d6ac2b26"
      },
      "execution_count": 30,
      "outputs": [
        {
          "output_type": "execute_result",
          "data": {
            "text/plain": [
              "<matplotlib.axes._subplots.AxesSubplot at 0x7f74a478eed0>"
            ]
          },
          "metadata": {},
          "execution_count": 30
        },
        {
          "output_type": "display_data",
          "data": {
            "text/plain": [
              "<Figure size 1296x648 with 2 Axes>"
            ],
            "image/png": "[encoded data removed]"
          },
          "metadata": {
            "needs_background": "light"
          }
        }
      ]
    },
    {
      "cell_type": "markdown",
      "source": [
        "Outlier Removal"
      ],
      "metadata": {
        "id": "Bo0qpLVHTYtn"
      }
    },
    {
      "cell_type": "code",
      "source": [
        "#Only removing extreme outliers\n",
        "Q1 = subsample.quantile(0.25)\n",
        "Q3 = subsample.quantile(0.75)\n",
        "IQR = Q3 - Q1\n",
        "\n",
        "df2 = subsample[~((subsample < (Q1 - 2.5 * IQR)) |(subsample > (Q3 + 2.5 * IQR))).any(axis=1)]"
      ],
      "metadata": {
        "id": "Ig8Ms5n-TcNU"
      },
      "execution_count": 31,
      "outputs": []
    },
    {
      "cell_type": "code",
      "source": [
        "len_after = len(df2)\n",
        "len_before = len(subsample)\n",
        "len_difference = len(subsample) - len(df2)\n",
        "print('We reduced our data size from {} transactions by {} transactions to {} transactions.'.format(len_before, len_difference, len_after))"
      ],
      "metadata": {
        "colab": {
          "base_uri": "https://localhost:8080/"
        },
        "id": "XvA1b9kRTdHT",
        "outputId": "930320cd-dc69-4cd7-b664-f6686feb9c6d"
      },
      "execution_count": 32,
      "outputs": [
        {
          "output_type": "stream",
          "name": "stdout",
          "text": [
            "We reduced our data size from 154 transactions by 43 transactions to 111 transactions.\n"
          ]
        }
      ]
    },
    {
      "cell_type": "markdown",
      "source": [
        "Dimensionality Reduction"
      ],
      "metadata": {
        "id": "3PRIsahQTn5f"
      }
    },
    {
      "cell_type": "code",
      "source": [
        "from sklearn.manifold import TSNE\n",
        "\n",
        "X = df2.drop('Class', axis=1)\n",
        "y = df2['Class']"
      ],
      "metadata": {
        "id": "G9T4Tc82Tm1G"
      },
      "execution_count": 33,
      "outputs": []
    },
    {
      "cell_type": "code",
      "source": [
        "X_reduced_tsne = TSNE(n_components=2, random_state=42).fit_transform(X.values)"
      ],
      "metadata": {
        "colab": {
          "base_uri": "https://localhost:8080/"
        },
        "id": "VqLt0DfZTqtz",
        "outputId": "a6993242-413c-42b3-b716-b0150c6c1ee3"
      },
      "execution_count": 34,
      "outputs": [
        {
          "output_type": "stream",
          "name": "stderr",
          "text": [
            "/usr/local/lib/python3.7/dist-packages/sklearn/manifold/_t_sne.py:783: FutureWarning: The default initialization in TSNE will change from 'random' to 'pca' in 1.2.\n",
            "  FutureWarning,\n",
            "/usr/local/lib/python3.7/dist-packages/sklearn/manifold/_t_sne.py:793: FutureWarning: The default learning rate in TSNE will change from 200.0 to 'auto' in 1.2.\n",
            "  FutureWarning,\n"
          ]
        }
      ]
    },
    {
      "cell_type": "markdown",
      "source": [
        "Classification Algorithms"
      ],
      "metadata": {
        "id": "su5U-Wi4TwJk"
      }
    },
    {
      "cell_type": "code",
      "source": [
        "# train test split\n",
        "from sklearn.model_selection import train_test_split\n",
        "\n",
        "X_train, X_test, y_train, y_test = train_test_split(X, y, test_size=0.2, random_state=42)"
      ],
      "metadata": {
        "id": "Lh-a94QSTtYu"
      },
      "execution_count": 35,
      "outputs": []
    },
    {
      "cell_type": "code",
      "source": [
        "X_train = X_train.values\n",
        "X_validation = X_test.values\n",
        "y_train = y_train.values\n",
        "y_validation = y_test.values"
      ],
      "metadata": {
        "id": "Zf0vk_kFT1Ho"
      },
      "execution_count": 36,
      "outputs": []
    },
    {
      "cell_type": "code",
      "source": [
        "print('X_shapes:\\n', 'X_train:', 'X_validation:\\n', X_train.shape, X_validation.shape, '\\n')\n",
        "print('Y_shapes:\\n', 'Y_train:', 'Y_validation:\\n', y_train.shape, y_validation.shape)"
      ],
      "metadata": {
        "colab": {
          "base_uri": "https://localhost:8080/"
        },
        "id": "9xE8ax8-T3AI",
        "outputId": "b5451bb3-0c7d-4fa6-8ad4-4d8a6360884b"
      },
      "execution_count": 37,
      "outputs": [
        {
          "output_type": "stream",
          "name": "stdout",
          "text": [
            "X_shapes:\n",
            " X_train: X_validation:\n",
            " (88, 30) (23, 30) \n",
            "\n",
            "Y_shapes:\n",
            " Y_train: Y_validation:\n",
            " (88,) (23,)\n"
          ]
        }
      ]
    },
    {
      "cell_type": "code",
      "source": [
        "from sklearn.model_selection import KFold\n",
        "from sklearn.model_selection import cross_val_score\n",
        "from sklearn.metrics import roc_auc_score\n",
        "from sklearn.metrics import classification_report\n",
        "from sklearn.metrics import confusion_matrix\n",
        "from sklearn.linear_model import LogisticRegression\n",
        "from sklearn.neighbors import KNeighborsClassifier\n",
        "from sklearn.tree import DecisionTreeClassifier\n",
        "from sklearn.svm import SVC\n",
        "from sklearn.ensemble import RandomForestClassifier"
      ],
      "metadata": {
        "id": "ljvVeOWmT6rV"
      },
      "execution_count": 38,
      "outputs": []
    },
    {
      "cell_type": "code",
      "source": [
        "##Spot-Checking Algorithms\n",
        "\n",
        "models = []\n",
        "\n",
        "models.append(('LR', LogisticRegression()))\n",
        "models.append(('KNN', KNeighborsClassifier()))\n",
        "models.append(('CART', DecisionTreeClassifier()))\n",
        "models.append(('SVM', SVC()))\n",
        "models.append(('RF', RandomForestClassifier()))\n",
        "\n",
        "#testing models\n",
        "\n",
        "results = []\n",
        "names = []\n",
        "\n",
        "for name, model in models:\n",
        "    kfold = KFold(n_splits=10, random_state=42,shuffle=True)\n",
        "    cv_results = cross_val_score(model, X_train, y_train, cv=kfold, scoring='roc_auc')\n",
        "    results.append(cv_results)\n",
        "    names.append(name)\n",
        "    msg = '%s: %f (%f)' % (name, cv_results.mean(), cv_results.std())\n",
        "    print(msg)"
      ],
      "metadata": {
        "colab": {
          "base_uri": "https://localhost:8080/"
        },
        "id": "4gk1A-WcUB3l",
        "outputId": "43586cd3-58dd-4279-d838-222ca6069ba7"
      },
      "execution_count": 39,
      "outputs": [
        {
          "output_type": "stream",
          "name": "stdout",
          "text": [
            "LR: 1.000000 (0.000000)\n",
            "KNN: 0.983333 (0.050000)\n",
            "CART: 0.904167 (0.085493)\n",
            "SVM: 0.994444 (0.016667)\n",
            "RF: 1.000000 (0.000000)\n"
          ]
        }
      ]
    },
    {
      "cell_type": "code",
      "source": [
        "from sklearn import tree\n",
        "import matplotlib.pyplot as plt\n",
        "#visualizing RF\n",
        "model = RandomForestClassifier(n_estimators=10)\n",
        "\n",
        "# Train\n",
        "model.fit(X_train, y_train)\n",
        "# Extract single tree\n",
        "estimator = model.estimators_[5]\n",
        "plt.figure(figsize=(15,10))\n",
        "tree.plot_tree(estimator,filled=True)"
      ],
      "metadata": {
        "colab": {
          "base_uri": "https://localhost:8080/",
          "height": 838
        },
        "id": "w2cgQ6WzaoWr",
        "outputId": "b3530773-c4eb-417e-8c33-1eda18a9ea48"
      },
      "execution_count": 42,
      "outputs": [
        {
          "output_type": "execute_result",
          "data": {
            "text/plain": [
              "[Text(0.4444444444444444, 0.9166666666666666, 'X[9] <= -2.755\\ngini = 0.425\\nsamples = 55\\nvalue = [61, 27]'),\n",
              " Text(0.3333333333333333, 0.75, 'gini = 0.0\\nsamples = 16\\nvalue = [0, 18]'),\n",
              " Text(0.5555555555555556, 0.75, 'X[16] <= 1.65\\ngini = 0.224\\nsamples = 39\\nvalue = [61, 9]'),\n",
              " Text(0.4444444444444444, 0.5833333333333334, 'X[2] <= -0.348\\ngini = 0.116\\nsamples = 36\\nvalue = [61, 4]'),\n",
              " Text(0.2222222222222222, 0.4166666666666667, 'X[10] <= 1.406\\ngini = 0.444\\nsamples = 3\\nvalue = [1, 2]'),\n",
              " Text(0.1111111111111111, 0.25, 'gini = 0.0\\nsamples = 1\\nvalue = [1, 0]'),\n",
              " Text(0.3333333333333333, 0.25, 'gini = 0.0\\nsamples = 2\\nvalue = [0, 2]'),\n",
              " Text(0.6666666666666666, 0.4166666666666667, 'X[15] <= 0.649\\ngini = 0.062\\nsamples = 33\\nvalue = [60, 2]'),\n",
              " Text(0.5555555555555556, 0.25, 'gini = 0.0\\nsamples = 26\\nvalue = [51, 0]'),\n",
              " Text(0.7777777777777778, 0.25, 'X[18] <= -2.198\\ngini = 0.298\\nsamples = 7\\nvalue = [9, 2]'),\n",
              " Text(0.6666666666666666, 0.08333333333333333, 'gini = 0.0\\nsamples = 1\\nvalue = [0, 2]'),\n",
              " Text(0.8888888888888888, 0.08333333333333333, 'gini = 0.0\\nsamples = 6\\nvalue = [9, 0]'),\n",
              " Text(0.6666666666666666, 0.5833333333333334, 'gini = 0.0\\nsamples = 3\\nvalue = [0, 5]')]"
            ]
          },
          "metadata": {},
          "execution_count": 42
        },
        {
          "output_type": "display_data",
          "data": {
            "text/plain": [
              "<Figure size 1080x720 with 1 Axes>"
            ],
            "image/png": "[encoded data removed]"
          },
          "metadata": {
            "needs_background": "light"
          }
        }
      ]
    }
  ]
}